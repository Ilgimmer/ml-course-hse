{
 "nbformat": 4,
 "nbformat_minor": 0,
 "metadata": {
  "kernelspec": {
   "display_name": "Python 3",
   "language": "python",
   "name": "python3"
  },
  "language_info": {
   "codemirror_mode": {
    "name": "ipython",
    "version": 3
   },
   "file_extension": ".py",
   "mimetype": "text/x-python",
   "name": "python",
   "nbconvert_exporter": "python",
   "pygments_lexer": "ipython3",
   "version": "3.9.5"
  },
  "varInspector": {
   "cols": {
    "lenName": 16,
    "lenType": 16,
    "lenVar": 40
   },
   "kernels_config": {
    "python": {
     "delete_cmd_postfix": "",
     "delete_cmd_prefix": "del ",
     "library": "var_list.py",
     "varRefreshCmd": "print(var_dic_list())"
    },
    "r": {
     "delete_cmd_postfix": ") ",
     "delete_cmd_prefix": "rm(",
     "library": "var_list.r",
     "varRefreshCmd": "cat(var_dic_list()) "
    }
   },
   "types_to_exclude": [
    "module",
    "function",
    "builtin_function_or_method",
    "instance",
    "_Feature"
   ],
   "window_display": false
  },
  "colab": {
   "name": "homework-practice-01-pandas.ipynb",
   "provenance": []
  }
 },
 "cells": [
  {
   "cell_type": "markdown",
   "metadata": {
    "id": "HcF9My_FhLuk"
   },
   "source": [
    "## Машинное обучение 1, ПМИ ФКН ВШЭ\n",
    "\n",
    "## Практическое домашнее задание 1\n",
    "\n",
    "### Общая информация\n",
    "\n",
    "Дата выдачи: 11.09.2021\n",
    "\n",
    "Мягкий дедлайн: 23:59MSK 25.09.2021\n",
    "\n",
    "Жесткий дедлайн: 23:59MSK 28.09.2021"
   ]
  },
  {
   "cell_type": "markdown",
   "metadata": {
    "id": "G64TptyJhLuo"
   },
   "source": [
    "### О задании\n",
    "\n",
    "Задание состоит из двух разделов, посвященных работе с табличными данными с помощью библиотеки pandas и визуализации с помощью matplotlib. В первом разделе вам предстоит выполнить базовые задания с помощью вышеуказанных библиотек, а во втором распределить студентов по курсам. Баллы даются за выполнение отдельных пунктов. Задачи в рамках одного раздела рекомендуется решать в том порядке, в котором они даны в задании.\n",
    "\n",
    "Задание направлено на освоение jupyter notebook (будет использоваться в дальнейших заданиях), библиотек pandas и matplotlib.\n",
    "\n",
    "### Оценивание и штрафы\n",
    "Каждая из задач имеет определенную «стоимость» (указана в скобках около задачи). Максимально допустимая оценка за работу — 10 баллов.\n",
    "\n",
    "Сдавать задание после жёсткого дедлайна нельзя. При выставлении неполного балла за задание в связи с наличием ошибок на усмотрение проверяющего предусмотрена возможность исправить работу на указанных в ответном письме условиях.\n",
    "\n",
    "Задание выполняется самостоятельно. «Похожие» решения считаются плагиатом и все задействованные студенты (в том числе те, у кого списали) не могут получить за него больше 0 баллов (подробнее о плагиате см. на странице курса). Если вы нашли решение какого-то из заданий (или его часть) в открытом источнике, необходимо указать ссылку на этот источник (скорее всего вы будете не единственным, кто это нашел, поэтому чтобы исключить подозрение в плагиате, необходима ссылка на источник).\n",
    "\n",
    "### Формат сдачи\n",
    "Задания сдаются через систему Anytask. Инвайт можно получить у семинариста или ассистента. Присылать необходимо ноутбук с выполненным заданием. Сам ноутбук называйте в формате homework-practice-01-pandas-Username.ipynb, где Username — ваша фамилия.\n",
    "\n",
    "Для удобства проверки самостоятельно посчитайте свою максимальную оценку (исходя из набора решенных задач) и укажите ниже.\n",
    "\n",
    "Оценка: xx."
   ]
  },
  {
   "cell_type": "markdown",
   "metadata": {
    "id": "BaXlfHE_hLup"
   },
   "source": [
    "## 0. Введение"
   ]
  },
  {
   "cell_type": "markdown",
   "metadata": {
    "id": "wirAvJNxhLup"
   },
   "source": [
    "Сейчас мы находимся в jupyter-ноутбуке (или ipython-ноутбуке). Это удобная среда для написания кода, проведения экспериментов, изучения данных, построения визуализаций и других нужд, не связанных с написанием production-кода. \n",
    "\n",
    "Ноутбук состоит из ячеек, каждая из которых может быть либо ячейкой с кодом, либо ячейкой с текстом размеченным и неразмеченным. Текст поддерживает markdown-разметку и формулы в Latex.\n",
    "\n",
    "Для работы с содержимым ячейки используется *режим редактирования* (*Edit mode*, включается нажатием клавиши **Enter** после выбора ячейки), а для навигации между ячейками искользуется *командный режим* (*Command mode*, включается нажатием клавиши **Esc**). Тип ячейки можно задать в командном режиме либо с помощью горячих клавиш (**y** to code, **m** to markdown, **r** to edit raw text), либо в меню *Cell -> Cell type*. \n",
    "\n",
    "После заполнения ячейки нужно нажать *Shift + Enter*, эта команда обработает содержимое ячейки: проинтерпретирует код или сверстает размеченный текст."
   ]
  },
  {
   "cell_type": "code",
   "metadata": {
    "id": "aQ2_j3nkhLuq"
   },
   "source": [
    "# ячейка с кодом, при выполнении которой появится output\n",
    "2 + 2"
   ],
   "execution_count": 1,
   "outputs": [
    {
     "data": {
      "text/plain": "4"
     },
     "execution_count": 1,
     "metadata": {},
     "output_type": "execute_result"
    }
   ]
  },
  {
   "cell_type": "markdown",
   "metadata": {
    "id": "ZlulCwVKhLur"
   },
   "source": [
    "Ячейка с неразмеченыным текстом."
   ]
  },
  {
   "cell_type": "markdown",
   "metadata": {
    "id": "A4wkVlIehLur"
   },
   "source": [
    "Попробуйте создать свои ячейки, написать какой-нибудь код и текст какой-нибудь формулой."
   ]
  },
  {
   "cell_type": "code",
   "metadata": {
    "id": "BIuaYSvqhLus"
   },
   "source": [
    "# !brew install sl && sl -la"
   ],
   "execution_count": 2,
   "outputs": []
  },
  {
   "cell_type": "markdown",
   "metadata": {
    "id": "iWs6ljrIhLus"
   },
   "source": [
    "[Здесь](https://athena.brynmawr.edu/jupyter/hub/dblank/public/Jupyter%20Notebook%20Users%20Manual.ipynb) находится <s>не</s>большая заметка о используемом языке разметки Markdown. Он позволяет:\n",
    "\n",
    "0. Составлять упорядоченные списки\n",
    "1. Выделять *текст* <s>при</s> **необходимости**\n",
    "2. Добавлять [ссылки](http://imgs.xkcd.com/comics/the_universal_label.png)\n",
    "\n",
    "\n",
    "* Составлять неупорядоченные списки\n",
    "\n",
    "Делать вставки с помощью LaTex:\n",
    "    \n",
    "$\n",
    "\\left\\{\n",
    "\\begin{array}{ll}\n",
    "x = 16 \\sin^3 (t) \\\\ \n",
    "y = 13 \\cos (t) - 5 \\cos (2t) - 2 \\cos (3t) - \\cos (4t) \\\\\n",
    "t \\in [0, 2 \\pi]\n",
    "\\end{array}\n",
    "\\right.$"
   ]
  },
  {
   "cell_type": "markdown",
   "metadata": {
    "id": "6fmTGcXOhLus"
   },
   "source": [
    "А ещё можно вставлять картинки, или гифки, или что захотите:\n",
    "\n",
    "<img src=\"https://media1.tenor.com/images/9b8fbe9214504bcf6c60fe4e4f7e114e/tenor.gif?itemid=5416416\" style=\"width: 400px\">"
   ]
  },
  {
   "cell_type": "markdown",
   "metadata": {
    "id": "J_toGw7DhLut"
   },
   "source": [
    "### Google Colab"
   ]
  },
  {
   "cell_type": "markdown",
   "metadata": {
    "id": "jpkbCVjGhLut"
   },
   "source": [
    "Что за колаб? \n",
    "\n",
    "**Google Colab (Colaboratory)** это **Jupyter Notebook + Cloud + Google Drive.**\n",
    "\n",
    "Компания Google предоставляет возможность бесплатно запускать ноутбуки (предварительно загрузив их на свой гугл-диск) прямо в облаке. При этом вам не требуется установка никаких пакетов на свою машину, а работать можно прямиком из браузера. Вот ссылка:"
   ]
  },
  {
   "cell_type": "markdown",
   "metadata": {
    "id": "06MQog3yhLut"
   },
   "source": [
    "https://colab.research.google.com"
   ]
  },
  {
   "cell_type": "markdown",
   "metadata": {
    "id": "5_hfWXKPhLut"
   },
   "source": [
    "При использовании вы увидете много сходств с jupyter ноутбуком. Одним из преимуществ является доступность GPU, соответствующую опцию можно активировать в настройках сервиса. При желании вы сможете найти в интернете много туториалов по использованию или разобраться самостоятельно =)"
   ]
  },
  {
   "cell_type": "markdown",
   "metadata": {
    "id": "sUe2vnFGhLuu"
   },
   "source": [
    "## 1. Табличные данные и Pandas"
   ]
  },
  {
   "cell_type": "markdown",
   "metadata": {
    "id": "DJQzjjqJhLuu"
   },
   "source": [
    "Pandas — удобная библиотека для работы с табличными данными в Python, если данных не слишком много и они помещаются в оперативную память вашего компьютера. Несмотря на неэффективность реализации и некоторые проблемы, библиотека стала стандартом в анализе данных.\n",
    "\n",
    "Основной объект в pandas — это DataFrame, представляющий собой таблицу с именованными колонками различных типов, индексом (может быть многоуровневым). DataFrame можно создавать, считывая таблицу из файла или задавая вручную из других объектов.\n",
    "\n",
    "В этой части потребуется выполнить несколько небольших заданий. Можно пойти двумя путями: сначала изучить материалы, а потом приступить к заданиям, или же разбираться \"по ходу\". Выбирайте сами.\n",
    "\n",
    "Материалы:\n",
    "1. [Pandas за 10 минут из официального руководства](http://pandas.pydata.org/pandas-docs/stable/10min.html)\n",
    "2. [Документация](http://pandas.pydata.org/pandas-docs/stable/index.html) (стоит обращаться, если не понятно, как вызывать конкретный метод)\n",
    "3. [Примеры использования функционала](http://nbviewer.jupyter.org/github/justmarkham/pandas-videos/blob/master/pandas.ipynb)\n",
    "\n",
    "Многие из заданий можно выполнить несколькими способами. Не существуют единственно верного, но попробуйте максимально задействовать арсенал pandas и ориентируйтесь на простоту и понятность вашего кода. Мы не будем подсказывать, что нужно использовать для решения конкретной задачи, попробуйте находить необходимый функционал сами (название метода чаще всего очевидно). В помощь вам документация, поиск и stackoverflow."
   ]
  },
  {
   "cell_type": "code",
   "metadata": {
    "id": "26zbFY25hLuv",
    "outputId": "404c22c6-2696-48ab-c71e-7a3ffbc36b18"
   },
   "source": [
    "% pylab inline\n",
    "import pandas as pd"
   ],
   "execution_count": 3,
   "outputs": [
    {
     "name": "stdout",
     "output_type": "stream",
     "text": [
      "Populating the interactive namespace from numpy and matplotlib\n"
     ]
    }
   ]
  },
  {
   "cell_type": "markdown",
   "metadata": {
    "id": "dneJl9TyhLuv"
   },
   "source": [
    "Скачаем данные:"
   ]
  },
  {
   "cell_type": "code",
   "metadata": {
    "id": "rj_I0RslhLuw"
   },
   "source": [
    "# !wget  -O './end_seminar.xlsx' -q 'https://www.dropbox.com/s/f4rm8sjc3v99p0m/_end_seminar.xlsx?dl=0'"
   ],
   "execution_count": 4,
   "outputs": []
  },
  {
   "cell_type": "markdown",
   "metadata": {
    "id": "5hp7bn_ThLuw"
   },
   "source": [
    "Для пользователей Windows: скачайте файл самостоятельно и поместите его в папку с тетрадкой. Или попробуйте один из следующих вариантов:"
   ]
  },
  {
   "cell_type": "code",
   "metadata": {
    "id": "4h4_BaX8hLuw"
   },
   "source": [
    "# !powershell iwr -outf somefile https://somesite/somefile"
   ],
   "execution_count": 5,
   "outputs": []
  },
  {
   "cell_type": "code",
   "metadata": {
    "id": "7bHroLGChLuw"
   },
   "source": [
    "# !pip install wget\n",
    "# import wget \n",
    "# wget.download('https://dropbox.com/s/f4rm8sjc3v99p0m/_end_seminar.xlsx?dl=1', 'end_seminar.xlsx')"
   ],
   "execution_count": 6,
   "outputs": []
  },
  {
   "cell_type": "markdown",
   "metadata": {
    "id": "VFs_6IythLux"
   },
   "source": [
    "##### В первой части задания (до раздела \"Распределение студентов по курсам\") использование циклов запрещается и повлечет за собой снижение оценки. Использование <code>vectorize</code> и  <code>apply</code>, <code>apply_along_axis</code> крайне нежелательно."
   ]
  },
  {
   "cell_type": "markdown",
   "metadata": {
    "id": "shFkfJkohLux"
   },
   "source": [
    "Для каждой задачи из этого раздела вы должны написать код для получения ответа, а также дать текстовый ответ, если он предполагается.\n",
    "\n",
    "На некоторые вопросы вы можете получить путём пристального взгляда на таблицу, но это не будет засчитываться. Вы в любом случае должны получить ответ с помощью кода."
   ]
  },
  {
   "cell_type": "markdown",
   "metadata": {
    "id": "gDD85M7bhLux"
   },
   "source": [
    "#### 1. [0 баллов] Откройте файл с таблицей (не забудьте про её формат). Выведите последние 10 строк.\n",
    "\n",
    "Посмотрите на данные и скажите, что они из себя представляют, сколько в таблице строк, какие столбцы? (на это не надо отвечать, просто подумайте об этом)"
   ]
  },
  {
   "cell_type": "code",
   "metadata": {
    "id": "PKulur3LhLuy"
   },
   "source": [
    "df = pd.read_excel(\"./end_seminar.xlsx\")"
   ],
   "execution_count": 247,
   "outputs": []
  },
  {
   "cell_type": "code",
   "execution_count": 248,
   "outputs": [
    {
     "name": "stdout",
     "output_type": "stream",
     "text": [
      "(361, 16)\n",
      "['timestamp',\n",
      " 'id',\n",
      " 'rating',\n",
      " '18_group',\n",
      " 'is_mi',\n",
      " 'fall_1',\n",
      " 'fall_2',\n",
      " 'fall_3',\n",
      " 'spring_1',\n",
      " 'spring_2',\n",
      " 'spring_3',\n",
      " 'is_first_time',\n",
      " 'percentile',\n",
      " '17_group',\n",
      " 'blended',\n",
      " 'is_ml_student']\n"
     ]
    }
   ],
   "source": [
    "from pprint import pprint\n",
    "\n",
    "pprint(df.shape)\n",
    "pprint([*df.columns])"
   ],
   "metadata": {
    "collapsed": false,
    "pycharm": {
     "name": "#%%\n"
    }
   }
  },
  {
   "cell_type": "code",
   "execution_count": 249,
   "outputs": [
    {
     "name": "stdout",
     "output_type": "stream",
     "text": [
      "<class 'pandas.core.frame.DataFrame'>\n",
      "RangeIndex: 361 entries, 0 to 360\n",
      "Data columns (total 16 columns):\n",
      " #   Column         Non-Null Count  Dtype         \n",
      "---  ------         --------------  -----         \n",
      " 0   timestamp      361 non-null    datetime64[ns]\n",
      " 1   id             361 non-null    object        \n",
      " 2   rating         361 non-null    int64         \n",
      " 3   18_group       223 non-null    float64       \n",
      " 4   is_mi          18 non-null     float64       \n",
      " 5   fall_1         361 non-null    object        \n",
      " 6   fall_2         361 non-null    object        \n",
      " 7   fall_3         361 non-null    object        \n",
      " 8   spring_1       361 non-null    object        \n",
      " 9   spring_2       361 non-null    object        \n",
      " 10  spring_3       361 non-null    object        \n",
      " 11  is_first_time  359 non-null    object        \n",
      " 12  percentile     361 non-null    float64       \n",
      " 13  17_group       138 non-null    float64       \n",
      " 14  blended        138 non-null    object        \n",
      " 15  is_ml_student  57 non-null     float64       \n",
      "dtypes: datetime64[ns](1), float64(5), int64(1), object(9)\n",
      "memory usage: 45.2+ KB\n"
     ]
    }
   ],
   "source": [
    "df.info()"
   ],
   "metadata": {
    "collapsed": false,
    "pycharm": {
     "name": "#%%\n"
    }
   }
  },
  {
   "cell_type": "code",
   "execution_count": 250,
   "outputs": [
    {
     "data": {
      "text/plain": "            rating    18_group  is_mi  percentile    17_group  is_ml_student\ncount   361.000000  223.000000   18.0  361.000000  138.000000           57.0\nmean    833.346260  184.520179    1.0    0.497230  173.355072            1.0\nstd     266.665103    2.271701    0.0    0.289071    1.795374            0.0\nmin     495.000000  181.000000    1.0    0.000000  171.000000            1.0\n25%     613.000000  183.000000    1.0    0.246637  172.000000            1.0\n50%     697.000000  185.000000    1.0    0.497758  173.000000            1.0\n75%    1111.000000  187.000000    1.0    0.746377  175.000000            1.0\nmax    1457.000000  188.000000    1.0    0.995516  177.000000            1.0",
      "text/html": "<div>\n<style scoped>\n    .dataframe tbody tr th:only-of-type {\n        vertical-align: middle;\n    }\n\n    .dataframe tbody tr th {\n        vertical-align: top;\n    }\n\n    .dataframe thead th {\n        text-align: right;\n    }\n</style>\n<table border=\"1\" class=\"dataframe\">\n  <thead>\n    <tr style=\"text-align: right;\">\n      <th></th>\n      <th>rating</th>\n      <th>18_group</th>\n      <th>is_mi</th>\n      <th>percentile</th>\n      <th>17_group</th>\n      <th>is_ml_student</th>\n    </tr>\n  </thead>\n  <tbody>\n    <tr>\n      <th>count</th>\n      <td>361.000000</td>\n      <td>223.000000</td>\n      <td>18.0</td>\n      <td>361.000000</td>\n      <td>138.000000</td>\n      <td>57.0</td>\n    </tr>\n    <tr>\n      <th>mean</th>\n      <td>833.346260</td>\n      <td>184.520179</td>\n      <td>1.0</td>\n      <td>0.497230</td>\n      <td>173.355072</td>\n      <td>1.0</td>\n    </tr>\n    <tr>\n      <th>std</th>\n      <td>266.665103</td>\n      <td>2.271701</td>\n      <td>0.0</td>\n      <td>0.289071</td>\n      <td>1.795374</td>\n      <td>0.0</td>\n    </tr>\n    <tr>\n      <th>min</th>\n      <td>495.000000</td>\n      <td>181.000000</td>\n      <td>1.0</td>\n      <td>0.000000</td>\n      <td>171.000000</td>\n      <td>1.0</td>\n    </tr>\n    <tr>\n      <th>25%</th>\n      <td>613.000000</td>\n      <td>183.000000</td>\n      <td>1.0</td>\n      <td>0.246637</td>\n      <td>172.000000</td>\n      <td>1.0</td>\n    </tr>\n    <tr>\n      <th>50%</th>\n      <td>697.000000</td>\n      <td>185.000000</td>\n      <td>1.0</td>\n      <td>0.497758</td>\n      <td>173.000000</td>\n      <td>1.0</td>\n    </tr>\n    <tr>\n      <th>75%</th>\n      <td>1111.000000</td>\n      <td>187.000000</td>\n      <td>1.0</td>\n      <td>0.746377</td>\n      <td>175.000000</td>\n      <td>1.0</td>\n    </tr>\n    <tr>\n      <th>max</th>\n      <td>1457.000000</td>\n      <td>188.000000</td>\n      <td>1.0</td>\n      <td>0.995516</td>\n      <td>177.000000</td>\n      <td>1.0</td>\n    </tr>\n  </tbody>\n</table>\n</div>"
     },
     "execution_count": 250,
     "metadata": {},
     "output_type": "execute_result"
    }
   ],
   "source": [
    "df.describe()"
   ],
   "metadata": {
    "collapsed": false,
    "pycharm": {
     "name": "#%%\n"
    }
   }
  },
  {
   "cell_type": "code",
   "execution_count": 251,
   "outputs": [
    {
     "data": {
      "text/plain": "                  timestamp                                id  rating  \\\n0   2020-05-15 01:12:50.543  93ff79a51cd602f1dd3028ba2c129503     698   \n1   2020-05-15 02:46:48.066  26b01b1c4cd5656bab18d24c548834fb     647   \n2   2020-05-15 03:12:41.480  30f3653fc176d54e89ac3179c455c6dd     624   \n3   2020-05-15 04:43:08.994  1528f0eaa027580820ccf0d92a53ad68     579   \n4   2020-05-15 07:47:17.197  496ea4f0d4abe264b1bb1b80eb3830c5     572   \n..                      ...                               ...     ...   \n356 2020-05-19 19:04:17.873  c5870b37ee3f672e4259dfb2fc02ed8f    1029   \n357 2020-05-19 20:19:25.815  f44aea1095f9f5b8e2f5f0ed2b17891b    1060   \n358 2020-05-20 11:54:38.318  d7118b44c7e8fdbbaaca226d2da6fef1    1111   \n359 2020-05-23 21:16:40.916  79d14db48e4737af731960ae212d5134     966   \n360 2020-05-23 21:16:40.916  f2d210ace25a841e1e58036b257d5d47    1195   \n\n     18_group  is_mi                                           fall_1  \\\n0       181.0    NaN                                         Язык SQL   \n1       181.0    NaN                Высокопроизводительные вычисления   \n2       185.0    NaN                 Безопасность компьютерных систем   \n3       182.0    NaN                      Statistical Learning Theory   \n4       183.0    NaN                Высокопроизводительные вычисления   \n..        ...    ...                                              ...   \n356       NaN    NaN                      Statistical Learning Theory   \n357       NaN    NaN                Анализ неструктурированных данных   \n358       NaN    NaN  Сбор и обработка данных с помощью краудсорсинга   \n359       NaN    NaN                 Безопасность компьютерных систем   \n360       NaN    NaN                Анализ неструктурированных данных   \n\n                                                fall_2  \\\n0                    Высокопроизводительные вычисления   \n1                     Безопасность компьютерных систем   \n2                                 Матричные вычисления   \n3                    Высокопроизводительные вычисления   \n4                     Безопасность компьютерных систем   \n..                                                 ...   \n356                  Анализ неструктурированных данных   \n357                  Высокопроизводительные вычисления   \n358                        Statistical Learning Theory   \n359  Принятие решений в условиях риска и неопределё...   \n360                      Моделирование временных рядов   \n\n                                              fall_3  \\\n0                               Матричные вычисления   \n1                                           Язык SQL   \n2                      Моделирование временных рядов   \n3                               Матричные вычисления   \n4                                  Теория баз данных   \n..                                               ...   \n356  Сбор и обработка данных с помощью краудсорсинга   \n357                    Моделирование временных рядов   \n358                Анализ неструктурированных данных   \n359                Анализ неструктурированных данных   \n360                Высокопроизводительные вычисления   \n\n                                              spring_1  \\\n0                               Дискретная оптимизация   \n1                               Дискретная оптимизация   \n2                               Дискретная оптимизация   \n3                               Дискретная оптимизация   \n4                                    Компьютерные сети   \n..                                                 ...   \n356                           Обучение с подкреплением   \n357                             Конфликты и кооперация   \n358  Проектирование и разработка высоконагруженных ...   \n359  Проектирование и разработка высоконагруженных ...   \n360                           Обучение с подкреплением   \n\n                                 spring_2  \\\n0                        Численные методы   \n1                        Численные методы   \n2                     Машинное обучение 2   \n3                        Численные методы   \n4                  Дискретная оптимизация   \n..                                    ...   \n356                Конфликты и кооперация   \n357              Обучение с подкреплением   \n358  Методы сжатия и передачи медиаданных   \n359  Методы сжатия и передачи медиаданных   \n360                   Компьютерное зрение   \n\n                                 spring_3 is_first_time  percentile  17_group  \\\n0                     Машинное обучение 2            Да    0.183857       NaN   \n1                     Машинное обучение 2           Нет    0.426009       NaN   \n2                        Численные методы            Да    0.538117       NaN   \n3                     Машинное обучение 2            Да    0.744395       NaN   \n4                        Численные методы            Да    0.780269       NaN   \n..                                    ...           ...         ...       ...   \n356                   Компьютерное зрение            Да    0.920290     174.0   \n357                      Численные методы            Да    0.840580     174.0   \n358                      Численные методы            Да    0.652174     173.0   \n359                   Компьютерное зрение            Да    0.985507     172.0   \n360  Методы сжатия и передачи медиаданных           NaN    0.369565     176.0   \n\n                            blended  is_ml_student  \n0                               NaN            NaN  \n1                               NaN            NaN  \n2                               NaN            NaN  \n3                               NaN            NaN  \n4                               NaN            NaN  \n..                              ...            ...  \n356                          DevOps            NaN  \n357                          DevOps            NaN  \n358  Соревновательный анализ данных            NaN  \n359                          DevOps            NaN  \n360  Соревновательный анализ данных            NaN  \n\n[361 rows x 16 columns]",
      "text/html": "<div>\n<style scoped>\n    .dataframe tbody tr th:only-of-type {\n        vertical-align: middle;\n    }\n\n    .dataframe tbody tr th {\n        vertical-align: top;\n    }\n\n    .dataframe thead th {\n        text-align: right;\n    }\n</style>\n<table border=\"1\" class=\"dataframe\">\n  <thead>\n    <tr style=\"text-align: right;\">\n      <th></th>\n      <th>timestamp</th>\n      <th>id</th>\n      <th>rating</th>\n      <th>18_group</th>\n      <th>is_mi</th>\n      <th>fall_1</th>\n      <th>fall_2</th>\n      <th>fall_3</th>\n      <th>spring_1</th>\n      <th>spring_2</th>\n      <th>spring_3</th>\n      <th>is_first_time</th>\n      <th>percentile</th>\n      <th>17_group</th>\n      <th>blended</th>\n      <th>is_ml_student</th>\n    </tr>\n  </thead>\n  <tbody>\n    <tr>\n      <th>0</th>\n      <td>2020-05-15 01:12:50.543</td>\n      <td>93ff79a51cd602f1dd3028ba2c129503</td>\n      <td>698</td>\n      <td>181.0</td>\n      <td>NaN</td>\n      <td>Язык SQL</td>\n      <td>Высокопроизводительные вычисления</td>\n      <td>Матричные вычисления</td>\n      <td>Дискретная оптимизация</td>\n      <td>Численные методы</td>\n      <td>Машинное обучение 2</td>\n      <td>Да</td>\n      <td>0.183857</td>\n      <td>NaN</td>\n      <td>NaN</td>\n      <td>NaN</td>\n    </tr>\n    <tr>\n      <th>1</th>\n      <td>2020-05-15 02:46:48.066</td>\n      <td>26b01b1c4cd5656bab18d24c548834fb</td>\n      <td>647</td>\n      <td>181.0</td>\n      <td>NaN</td>\n      <td>Высокопроизводительные вычисления</td>\n      <td>Безопасность компьютерных систем</td>\n      <td>Язык SQL</td>\n      <td>Дискретная оптимизация</td>\n      <td>Численные методы</td>\n      <td>Машинное обучение 2</td>\n      <td>Нет</td>\n      <td>0.426009</td>\n      <td>NaN</td>\n      <td>NaN</td>\n      <td>NaN</td>\n    </tr>\n    <tr>\n      <th>2</th>\n      <td>2020-05-15 03:12:41.480</td>\n      <td>30f3653fc176d54e89ac3179c455c6dd</td>\n      <td>624</td>\n      <td>185.0</td>\n      <td>NaN</td>\n      <td>Безопасность компьютерных систем</td>\n      <td>Матричные вычисления</td>\n      <td>Моделирование временных рядов</td>\n      <td>Дискретная оптимизация</td>\n      <td>Машинное обучение 2</td>\n      <td>Численные методы</td>\n      <td>Да</td>\n      <td>0.538117</td>\n      <td>NaN</td>\n      <td>NaN</td>\n      <td>NaN</td>\n    </tr>\n    <tr>\n      <th>3</th>\n      <td>2020-05-15 04:43:08.994</td>\n      <td>1528f0eaa027580820ccf0d92a53ad68</td>\n      <td>579</td>\n      <td>182.0</td>\n      <td>NaN</td>\n      <td>Statistical Learning Theory</td>\n      <td>Высокопроизводительные вычисления</td>\n      <td>Матричные вычисления</td>\n      <td>Дискретная оптимизация</td>\n      <td>Численные методы</td>\n      <td>Машинное обучение 2</td>\n      <td>Да</td>\n      <td>0.744395</td>\n      <td>NaN</td>\n      <td>NaN</td>\n      <td>NaN</td>\n    </tr>\n    <tr>\n      <th>4</th>\n      <td>2020-05-15 07:47:17.197</td>\n      <td>496ea4f0d4abe264b1bb1b80eb3830c5</td>\n      <td>572</td>\n      <td>183.0</td>\n      <td>NaN</td>\n      <td>Высокопроизводительные вычисления</td>\n      <td>Безопасность компьютерных систем</td>\n      <td>Теория баз данных</td>\n      <td>Компьютерные сети</td>\n      <td>Дискретная оптимизация</td>\n      <td>Численные методы</td>\n      <td>Да</td>\n      <td>0.780269</td>\n      <td>NaN</td>\n      <td>NaN</td>\n      <td>NaN</td>\n    </tr>\n    <tr>\n      <th>...</th>\n      <td>...</td>\n      <td>...</td>\n      <td>...</td>\n      <td>...</td>\n      <td>...</td>\n      <td>...</td>\n      <td>...</td>\n      <td>...</td>\n      <td>...</td>\n      <td>...</td>\n      <td>...</td>\n      <td>...</td>\n      <td>...</td>\n      <td>...</td>\n      <td>...</td>\n      <td>...</td>\n    </tr>\n    <tr>\n      <th>356</th>\n      <td>2020-05-19 19:04:17.873</td>\n      <td>c5870b37ee3f672e4259dfb2fc02ed8f</td>\n      <td>1029</td>\n      <td>NaN</td>\n      <td>NaN</td>\n      <td>Statistical Learning Theory</td>\n      <td>Анализ неструктурированных данных</td>\n      <td>Сбор и обработка данных с помощью краудсорсинга</td>\n      <td>Обучение с подкреплением</td>\n      <td>Конфликты и кооперация</td>\n      <td>Компьютерное зрение</td>\n      <td>Да</td>\n      <td>0.920290</td>\n      <td>174.0</td>\n      <td>DevOps</td>\n      <td>NaN</td>\n    </tr>\n    <tr>\n      <th>357</th>\n      <td>2020-05-19 20:19:25.815</td>\n      <td>f44aea1095f9f5b8e2f5f0ed2b17891b</td>\n      <td>1060</td>\n      <td>NaN</td>\n      <td>NaN</td>\n      <td>Анализ неструктурированных данных</td>\n      <td>Высокопроизводительные вычисления</td>\n      <td>Моделирование временных рядов</td>\n      <td>Конфликты и кооперация</td>\n      <td>Обучение с подкреплением</td>\n      <td>Численные методы</td>\n      <td>Да</td>\n      <td>0.840580</td>\n      <td>174.0</td>\n      <td>DevOps</td>\n      <td>NaN</td>\n    </tr>\n    <tr>\n      <th>358</th>\n      <td>2020-05-20 11:54:38.318</td>\n      <td>d7118b44c7e8fdbbaaca226d2da6fef1</td>\n      <td>1111</td>\n      <td>NaN</td>\n      <td>NaN</td>\n      <td>Сбор и обработка данных с помощью краудсорсинга</td>\n      <td>Statistical Learning Theory</td>\n      <td>Анализ неструктурированных данных</td>\n      <td>Проектирование и разработка высоконагруженных ...</td>\n      <td>Методы сжатия и передачи медиаданных</td>\n      <td>Численные методы</td>\n      <td>Да</td>\n      <td>0.652174</td>\n      <td>173.0</td>\n      <td>Соревновательный анализ данных</td>\n      <td>NaN</td>\n    </tr>\n    <tr>\n      <th>359</th>\n      <td>2020-05-23 21:16:40.916</td>\n      <td>79d14db48e4737af731960ae212d5134</td>\n      <td>966</td>\n      <td>NaN</td>\n      <td>NaN</td>\n      <td>Безопасность компьютерных систем</td>\n      <td>Принятие решений в условиях риска и неопределё...</td>\n      <td>Анализ неструктурированных данных</td>\n      <td>Проектирование и разработка высоконагруженных ...</td>\n      <td>Методы сжатия и передачи медиаданных</td>\n      <td>Компьютерное зрение</td>\n      <td>Да</td>\n      <td>0.985507</td>\n      <td>172.0</td>\n      <td>DevOps</td>\n      <td>NaN</td>\n    </tr>\n    <tr>\n      <th>360</th>\n      <td>2020-05-23 21:16:40.916</td>\n      <td>f2d210ace25a841e1e58036b257d5d47</td>\n      <td>1195</td>\n      <td>NaN</td>\n      <td>NaN</td>\n      <td>Анализ неструктурированных данных</td>\n      <td>Моделирование временных рядов</td>\n      <td>Высокопроизводительные вычисления</td>\n      <td>Обучение с подкреплением</td>\n      <td>Компьютерное зрение</td>\n      <td>Методы сжатия и передачи медиаданных</td>\n      <td>NaN</td>\n      <td>0.369565</td>\n      <td>176.0</td>\n      <td>Соревновательный анализ данных</td>\n      <td>NaN</td>\n    </tr>\n  </tbody>\n</table>\n<p>361 rows × 16 columns</p>\n</div>"
     },
     "execution_count": 251,
     "metadata": {},
     "output_type": "execute_result"
    }
   ],
   "source": [
    "df"
   ],
   "metadata": {
    "collapsed": false,
    "pycharm": {
     "name": "#%%\n"
    }
   }
  },
  {
   "cell_type": "markdown",
   "metadata": {
    "id": "Jhk3tVpVhLuy"
   },
   "source": [
    "#### 2. [0.5 балла] Ответьте на вопросы:\n",
    "1. Сколько было заявок из групп 18-го года набора, а сколько из групп 17-го года?\n",
    "2. Есть ли студенты с равными перцентилями?"
   ]
  },
  {
   "cell_type": "code",
   "metadata": {
    "id": "bsn4vn8RhLuy"
   },
   "source": [
    "print(\"18ый год:\", len(df[\"18_group\"].dropna()), \"заявок\")\n",
    "print(\"17ый год:\", len(df[\"17_group\"].dropna()), \"заявок\")"
   ],
   "execution_count": 252,
   "outputs": [
    {
     "name": "stdout",
     "output_type": "stream",
     "text": [
      "18ый год: 223 заявок\n",
      "17ый год: 138 заявок\n"
     ]
    }
   ]
  },
  {
   "cell_type": "code",
   "execution_count": 253,
   "outputs": [
    {
     "ename": "AssertionError",
     "evalue": "есть студенты с равными перцентелями",
     "output_type": "error",
     "traceback": [
      "\u001B[0;31m---------------------------------------------------------------------------\u001B[0m",
      "\u001B[0;31mAssertionError\u001B[0m                            Traceback (most recent call last)",
      "\u001B[0;32m/var/folders/h0/gqz2vz3x79vd0n21mlgt5vgm0000gp/T/ipykernel_40081/4240454346.py\u001B[0m in \u001B[0;36m<module>\u001B[0;34m\u001B[0m\n\u001B[0;32m----> 1\u001B[0;31m \u001B[0;32massert\u001B[0m \u001B[0mlen\u001B[0m\u001B[0;34m(\u001B[0m\u001B[0mdf\u001B[0m\u001B[0;34m.\u001B[0m\u001B[0mpercentile\u001B[0m\u001B[0;34m.\u001B[0m\u001B[0munique\u001B[0m\u001B[0;34m(\u001B[0m\u001B[0;34m)\u001B[0m\u001B[0;34m)\u001B[0m \u001B[0;34m==\u001B[0m \u001B[0mlen\u001B[0m\u001B[0;34m(\u001B[0m\u001B[0mdf\u001B[0m\u001B[0;34m.\u001B[0m\u001B[0mpercentile\u001B[0m\u001B[0;34m)\u001B[0m\u001B[0;34m,\u001B[0m \u001B[0;34m\"есть студенты с равными перцентелями\"\u001B[0m\u001B[0;34m\u001B[0m\u001B[0;34m\u001B[0m\u001B[0m\n\u001B[0m",
      "\u001B[0;31mAssertionError\u001B[0m: есть студенты с равными перцентелями"
     ]
    }
   ],
   "source": [
    "assert len(df.percentile.unique()) == len(df.percentile), \"есть студенты с равными перцентелями\""
   ],
   "metadata": {
    "collapsed": false,
    "pycharm": {
     "name": "#%%\n"
    }
   }
  },
  {
   "cell_type": "markdown",
   "metadata": {
    "id": "jPiMwyqHhLuy"
   },
   "source": [
    "#### 3. [0.5 балла] Есть ли в данных пропуски? В каких колонках? Сколько их в каждой из этих колонок?"
   ]
  },
  {
   "cell_type": "markdown",
   "source": [
    "#### Пропуски по колонкам"
   ],
   "metadata": {
    "collapsed": false,
    "pycharm": {
     "name": "#%% md\n"
    }
   }
  },
  {
   "cell_type": "code",
   "metadata": {
    "id": "edY1RrSOhLuy"
   },
   "source": [
    "df.isnull().sum()"
   ],
   "execution_count": 254,
   "outputs": [
    {
     "data": {
      "text/plain": "timestamp          0\nid                 0\nrating             0\n18_group         138\nis_mi            343\nfall_1             0\nfall_2             0\nfall_3             0\nspring_1           0\nspring_2           0\nspring_3           0\nis_first_time      2\npercentile         0\n17_group         223\nblended          223\nis_ml_student    304\ndtype: int64"
     },
     "execution_count": 254,
     "metadata": {},
     "output_type": "execute_result"
    }
   ]
  },
  {
   "cell_type": "markdown",
   "metadata": {
    "id": "B5ORhP2uhLuz"
   },
   "source": [
    "Заполните пропуски пустой строкой для строковых колонок и нулём для числовых."
   ]
  },
  {
   "cell_type": "code",
   "execution_count": 255,
   "outputs": [
    {
     "data": {
      "text/plain": "timestamp        datetime64[ns]\nid                       object\nrating                    int64\n18_group                float64\nis_mi                   float64\nfall_1                   object\nfall_2                   object\nfall_3                   object\nspring_1                 object\nspring_2                 object\nspring_3                 object\nis_first_time            object\npercentile              float64\n17_group                float64\nblended                  object\nis_ml_student           float64\ndtype: object"
     },
     "execution_count": 255,
     "metadata": {},
     "output_type": "execute_result"
    }
   ],
   "source": [
    "df.dtypes"
   ],
   "metadata": {
    "collapsed": false,
    "pycharm": {
     "name": "#%%\n"
    }
   }
  },
  {
   "cell_type": "code",
   "metadata": {
    "id": "TlF_JJ2ghLuz"
   },
   "source": [
    "df = df.fillna(\n",
    "    {\n",
    "        \"18_group\": 0, \"17_group\": 0, \"is_mi\": 0, \"is_ml_student\": 0,\n",
    "        \"blended\": \"\", \"is_first_time\": \"\"\n",
    "    }\n",
    ")"
   ],
   "execution_count": 256,
   "outputs": []
  },
  {
   "cell_type": "markdown",
   "metadata": {
    "id": "w5ELhkT1hLuz"
   },
   "source": [
    "#### 4. [0.5 балла] Посмотрите повнимательнее на колонку 'is_first_time'. \n",
    "\n",
    "Есть ли в ней ответы \"Нет\"? Сколько их?\n",
    "\n",
    "Если вы найдете повторные обращения студентов, оставьте только самую позднюю версию. <i>Обращения со значением \"Нет\" в <code>is_first_time</code> могут быть как повторными, так и первичными, поскольку поле заполняли сами студенты.</i>"
   ]
  },
  {
   "cell_type": "code",
   "metadata": {
    "id": "VEfiNsyQhLuz"
   },
   "source": [
    "print(df[df.is_first_time == \"Нет\"].shape[0], \"ответов Нет\")"
   ],
   "execution_count": 257,
   "outputs": [
    {
     "name": "stdout",
     "output_type": "stream",
     "text": [
      "51 ответов Нет\n"
     ]
    }
   ]
  },
  {
   "cell_type": "code",
   "execution_count": 258,
   "outputs": [],
   "source": [
    "df = df.drop_duplicates(subset=\"id\", keep=\"last\")"
   ],
   "metadata": {
    "collapsed": false,
    "pycharm": {
     "name": "#%%\n"
    }
   }
  },
  {
   "cell_type": "markdown",
   "metadata": {
    "id": "IlzHp3HVhLuz"
   },
   "source": [
    "#### 5. [0.5 балла] Какие  blended-курсы для четверокурсников существуют? На какой blended-курс записалось наибольшее количество студентов? На каком из курсов собрались студенты с самым высоким средним рейтингом?"
   ]
  },
  {
   "cell_type": "markdown",
   "source": [
    "#### Все blended курсы:"
   ],
   "metadata": {
    "collapsed": false,
    "pycharm": {
     "name": "#%% md\n"
    }
   }
  },
  {
   "cell_type": "code",
   "metadata": {
    "id": "j_BRWerHhLu0"
   },
   "source": [
    "pprint([*df.blended.unique()])"
   ],
   "execution_count": 259,
   "outputs": [
    {
     "name": "stdout",
     "output_type": "stream",
     "text": [
      "['',\n",
      " 'DevOps',\n",
      " 'Введение в дифференциальную геометрию',\n",
      " 'Соревновательный анализ данных']\n"
     ]
    }
   ]
  },
  {
   "cell_type": "markdown",
   "source": [
    "#### Больше всего людей записалось на DevOps"
   ],
   "metadata": {
    "collapsed": false,
    "pycharm": {
     "name": "#%% md\n"
    }
   }
  },
  {
   "cell_type": "code",
   "execution_count": 260,
   "outputs": [
    {
     "data": {
      "text/plain": "                                         213\nDevOps                                    87\nСоревновательный анализ данных            32\nВведение в дифференциальную геометрию     15\nName: blended, dtype: int64"
     },
     "execution_count": 260,
     "metadata": {},
     "output_type": "execute_result"
    }
   ],
   "source": [
    "df[\"blended\"].value_counts()"
   ],
   "metadata": {
    "collapsed": false,
    "pycharm": {
     "name": "#%%\n"
    }
   }
  },
  {
   "cell_type": "markdown",
   "source": [
    "#### С самым высоким средним собрались на Введение в дифференциальную геометрию"
   ],
   "metadata": {
    "collapsed": false,
    "pycharm": {
     "name": "#%% md\n"
    }
   }
  },
  {
   "cell_type": "code",
   "execution_count": 261,
   "outputs": [
    {
     "data": {
      "text/plain": "blended\n                                          633.901408\nDevOps                                   1154.172414\nВведение в дифференциальную геометрию    1210.733333\nСоревновательный анализ данных           1144.218750\nName: rating, dtype: float64"
     },
     "execution_count": 261,
     "metadata": {},
     "output_type": "execute_result"
    }
   ],
   "source": [
    "df.groupby(\"blended\").agg(\"mean\")[\"rating\"]"
   ],
   "metadata": {
    "collapsed": false,
    "pycharm": {
     "name": "#%%\n"
    }
   }
  },
  {
   "cell_type": "markdown",
   "metadata": {
    "id": "IU_FLt8HhLu0"
   },
   "source": [
    "#### 6. [1 балл] Выясните, есть ли в данных студенты с абсолютно одинаковыми предпочтениями по всем курсам (не забудьте учесть blended-курсы для четверокурсников). Сколько таких наборов, которые взяли несколько студентов? Выведите их все вместе с количеством выбравших их студентов.\n",
    "\n",
    "<i>Предпочтения двух студентов считаются абсолютно одинаковыми, если выбранные ими дисциплины имеют одинаковый приоритет.</i>"
   ]
  },
  {
   "cell_type": "code",
   "metadata": {
    "id": "BBDlR1mFhLu0"
   },
   "source": [
    "same_taste = df.duplicated(\n",
    "    subset=[\"fall_1\", \"fall_2\", \"fall_3\", \"spring_1\", \"spring_2\", \"spring_3\", \"blended\"],\n",
    "    keep=False\n",
    ")"
   ],
   "execution_count": 262,
   "outputs": []
  },
  {
   "cell_type": "markdown",
   "source": [
    "#### Наборы, которые взяли несколько студентов с количеством"
   ],
   "metadata": {
    "collapsed": false,
    "pycharm": {
     "name": "#%% md\n"
    }
   }
  },
  {
   "cell_type": "code",
   "execution_count": 263,
   "outputs": [
    {
     "data": {
      "text/plain": "fall_1                                           fall_2                                           fall_3                                           spring_1                                                spring_2                                     spring_3                                     blended\nStatistical Learning Theory                      Анализ неструктурированных данных                Сбор и обработка данных с помощью краудсорсинга  Обучение с подкреплением                                Конфликты и кооперация                       Компьютерное зрение                          DevOps     2\nБайесовские методы машинного обучения            Анализ неструктурированных данных                Глубинное обучение в обработке звука             Обучение с подкреплением                                Генеративные модели в машинном обучении      Компьютерное зрение                          DevOps     2\n                                                                                                  Сбор и обработка данных с помощью краудсорсинга  Обучение с подкреплением                                Компьютерное зрение                          Генеративные модели в машинном обучении      DevOps     2\nБезопасность компьютерных систем                 Statistical Learning Theory                      Матричные вычисления                             Дискретная оптимизация                                  Промышленное программирование на языке Java  Дополнительные главы прикладной статистики              3\n                                                 Высокопроизводительные вычисления                Анализ неструктурированных данных                Проектирование и разработка высоконагруженных сервисов  Методы сжатия и передачи медиаданных         Конфликты и кооперация                       DevOps     2\n                                                                                                  Язык SQL                                         Компьютерные сети                                       Промышленное программирование на языке Java  Дискретная оптимизация                                  3\n                                                                                                                                                   Промышленное программирование на языке Java             Компьютерные сети                            Системы баз данных                                      2\n                                                 Матричные вычисления                             Моделирование временных рядов                    Промышленное программирование на языке Java             Компьютерные сети                            Дискретная оптимизация                                  2\n                                                 Сбор и обработка данных с помощью краудсорсинга  Матричные вычисления                             Компьютерные сети                                       Промышленное программирование на языке Java  Анализ данных в бизнесе                                 2\n                                                 Теория баз данных                                Язык SQL                                         Машинное обучение 2                                     Компьютерные сети                            Промышленное программирование на языке Java             2\nВысокопроизводительные вычисления                Безопасность компьютерных систем                 Сбор и обработка данных с помощью краудсорсинга  Проектирование и разработка высоконагруженных сервисов  Методы сжатия и передачи медиаданных         Компьютерное зрение                          DevOps     2\n                                                 Сбор и обработка данных с помощью краудсорсинга  Моделирование временных рядов                    Проектирование и разработка высоконагруженных сервисов  Методы сжатия и передачи медиаданных         Методы сжатия и передачи медиаданных         DevOps     2\nМоделирование временных рядов                    Сбор и обработка данных с помощью краудсорсинга  Безопасность компьютерных систем                 Компьютерные сети                                       Дополнительные главы прикладной статистики   Системы баз данных                                      2\nСбор и обработка данных с помощью краудсорсинга  Язык SQL                                         Теория баз данных                                Промышленное программирование на языке Java             Машинное обучение 2                          Компьютерные сети                                       2\nЯзык SQL                                         Высокопроизводительные вычисления                Теория баз данных                                Компьютерные сети                                       Промышленное программирование на языке Java  Дискретная оптимизация                                  2\ndtype: int64"
     },
     "execution_count": 263,
     "metadata": {},
     "output_type": "execute_result"
    }
   ],
   "source": [
    "df[same_taste].groupby([\"fall_1\", \"fall_2\", \"fall_3\", \"spring_1\", \"spring_2\", \"spring_3\", \"blended\"]).size()"
   ],
   "metadata": {
    "collapsed": false,
    "pycharm": {
     "name": "#%%\n"
    }
   }
  },
  {
   "cell_type": "markdown",
   "metadata": {
    "id": "spu3r3vchLu0"
   },
   "source": [
    "#### 7. [0.5 балла] Найдите курсы по выбору, на которые записывались как студенты 18-го года набора, так и студенты 17-го года."
   ]
  },
  {
   "cell_type": "code",
   "execution_count": 264,
   "outputs": [],
   "source": [
    "get_courses = lambda df: set(df[[\"fall_1\", \"fall_2\", \"fall_3\", \"spring_1\", \"spring_2\", \"spring_3\"]].values.flatten())"
   ],
   "metadata": {
    "collapsed": false,
    "pycharm": {
     "name": "#%%\n"
    }
   }
  },
  {
   "cell_type": "code",
   "execution_count": 265,
   "outputs": [],
   "source": [
    "courses_17 = get_courses(df[df[\"17_group\"] != 0])\n",
    "courses_18 = get_courses(df[df[\"18_group\"] != 0])"
   ],
   "metadata": {
    "collapsed": false,
    "pycharm": {
     "name": "#%%\n"
    }
   }
  },
  {
   "cell_type": "markdown",
   "source": [
    "#### Курсы по выбору, на которые записывались как студенты 18-го года набора, так и студенты 17-го года"
   ],
   "metadata": {
    "collapsed": false,
    "pycharm": {
     "name": "#%% md\n"
    }
   }
  },
  {
   "cell_type": "code",
   "execution_count": 266,
   "outputs": [
    {
     "data": {
      "text/plain": "{'Statistical Learning Theory',\n 'Безопасность компьютерных систем',\n 'Высокопроизводительные вычисления',\n 'Моделирование временных рядов',\n 'Принятие решений в условиях риска и неопределённости',\n 'Сбор и обработка данных с помощью краудсорсинга',\n 'Численные методы'}"
     },
     "execution_count": 266,
     "metadata": {},
     "output_type": "execute_result"
    }
   ],
   "source": [
    "courses_17 & courses_18"
   ],
   "metadata": {
    "collapsed": false,
    "pycharm": {
     "name": "#%%\n"
    }
   }
  },
  {
   "cell_type": "markdown",
   "metadata": {
    "id": "PYfX-Dr5hLu0"
   },
   "source": [
    "Методом исключения найдите курсы, которые предлагались только студентам 18-го года и только студентам 17-го года."
   ]
  },
  {
   "cell_type": "markdown",
   "source": [
    "#### Только студентам 18го года"
   ],
   "metadata": {
    "collapsed": false,
    "pycharm": {
     "name": "#%% md\n"
    }
   }
  },
  {
   "cell_type": "code",
   "metadata": {
    "id": "G9SWBOpehLu1"
   },
   "source": [
    "courses_18 - courses_17"
   ],
   "execution_count": 267,
   "outputs": [
    {
     "data": {
      "text/plain": "{'Анализ данных в бизнесе',\n 'Дискретная оптимизация',\n 'Дополнительные главы прикладной статистики',\n 'Компьютерные сети',\n 'Матричные вычисления',\n 'Машинное обучение 2',\n 'Промышленное программирование на языке Java',\n 'Системы баз данных',\n 'Теория баз данных',\n 'Язык SQL'}"
     },
     "execution_count": 267,
     "metadata": {},
     "output_type": "execute_result"
    }
   ]
  },
  {
   "cell_type": "markdown",
   "source": [
    "#### Только студентам 17го года"
   ],
   "metadata": {
    "collapsed": false,
    "pycharm": {
     "name": "#%% md\n"
    }
   }
  },
  {
   "cell_type": "code",
   "execution_count": 268,
   "outputs": [
    {
     "data": {
      "text/plain": "{'Анализ неструктурированных данных',\n 'Байесовские методы машинного обучения',\n 'Генеративные модели в машинном обучении',\n 'Глубинное обучение в обработке звука',\n 'Компьютерное зрение',\n 'Конфликты и кооперация',\n 'Методы сжатия и передачи медиаданных',\n 'Обучение с подкреплением',\n 'Проектирование и разработка высоконагруженных сервисов',\n 'Символьные вычисления'}"
     },
     "execution_count": 268,
     "metadata": {},
     "output_type": "execute_result"
    }
   ],
   "source": [
    "courses_17 - courses_18"
   ],
   "metadata": {
    "collapsed": false,
    "pycharm": {
     "name": "#%%\n"
    }
   }
  },
  {
   "cell_type": "markdown",
   "metadata": {
    "id": "uL45Tg5fhLu1"
   },
   "source": [
    "### Визуализации и matplotlib"
   ]
  },
  {
   "cell_type": "markdown",
   "metadata": {
    "id": "MY9lKmP2hLu1"
   },
   "source": [
    "При работе с данными часто неудобно делать какие-то выводы, если смотреть на таблицу и числа в частности, поэтому важно уметь визуализировать данные. Здесь будут описаны ключевые правила оформления графиков для **всех** домашних заданий.\n",
    "\n",
    "У matplotlib, конечно же, есть [документация](https://matplotlib.org/users/index.html) с большим количеством [примеров](https://matplotlib.org/examples/), но для начала достаточно знать про несколько основных типов графиков:\n",
    "- plot — обычный поточечный график, которым можно изображать кривые или отдельные точки;\n",
    "- hist — гистограмма, показывающая распределение некоторой величины;\n",
    "- scatter — график, показывающий взаимосвязь двух величин;\n",
    "- bar — столбцовый график, показывающий взаимосвязь количественной величины от категориальной.\n",
    "\n",
    "В этом задании вы попробуете построить один из них. Не забывайте про базовые принципы построения приличных графиков:\n",
    "- оси должны быть подписаны, причём не слишком мелко;\n",
    "- у графика должно быть название;\n",
    "- если изображено несколько графиков, то необходима поясняющая легенда;\n",
    "- все линии на графиках должны быть чётко видны (нет похожих цветов или цветов, сливающихся с фоном);\n",
    "- если отображена величина, имеющая очевидный диапазон значений (например, проценты могут быть от 0 до 100), то желательно масштабировать ось на весь диапазон значений (исключением является случай, когда вам необходимо показать малое отличие, которое незаметно в таких масштабах);\n",
    "- сетка на графике помогает оценить значения в точках на глаз, это обычно полезно, поэтому лучше ее отрисовывать;\n",
    "- если распределение на гистограмме имеет тяжёлые хвосты, лучше использовать логарифмическую шкалу.\n",
    "\n",
    "Полезные строчки:\n",
    "- для красивой картинки <code>%config InlineBackend.figure_format = 'retina'</code>\n",
    "- задаем размер (почти) всех графиков (можно выбрать другие значения) <code>plt.rcParams['figure.figsize'] = 8, 5</code>\n",
    "- размер шрифта подписей графиков <code>plt.rcParams['font.size'] = 12</code>\n",
    "- формат в котором сохраняется изображение <code>mpl.rcParams['savefig.format'] = 'pdf'</code>\n",
    "- sns – seaborn, добавляет решетку <code>sns.set_style('darkgrid')</code>"
   ]
  },
  {
   "cell_type": "code",
   "metadata": {
    "id": "na9doUOFhLu1"
   },
   "source": [
    "% matplotlib inline\n",
    "% config InlineBackend.figure_format = \"retina\"\n",
    "\n",
    "import matplotlib.pyplot as plt"
   ],
   "execution_count": 269,
   "outputs": [
    {
     "name": "stderr",
     "output_type": "stream",
     "text": [
      "UsageError: Line magic function `%` not found.\n"
     ]
    }
   ]
  },
  {
   "cell_type": "markdown",
   "metadata": {
    "id": "kikwLpxfhLu1"
   },
   "source": [
    "#### 8. [0.5 балла] Постройте график средних рейтингов по дням получения ответов (bar plot)."
   ]
  },
  {
   "cell_type": "code",
   "execution_count": 270,
   "outputs": [],
   "source": [
    "mean_ratings = df.set_index(\"timestamp\").groupby(pd.Grouper(freq='d')).mean().rating.dropna()\n",
    "\n",
    "x = mean_ratings.index.astype(str).to_list()\n",
    "y = mean_ratings.to_list()"
   ],
   "metadata": {
    "collapsed": false,
    "pycharm": {
     "name": "#%%\n"
    }
   }
  },
  {
   "cell_type": "code",
   "execution_count": 271,
   "outputs": [
    {
     "data": {
      "text/plain": "<Figure size 432x288 with 1 Axes>",
      "image/png": "[encoded data removed]"
     },
     "metadata": {
      "needs_background": "light"
     },
     "output_type": "display_data"
    }
   ],
   "source": [
    "fig = plt.figure(figsize=(6, 4))\n",
    "ax = fig.add_axes([0, 0, 2, 0.7])\n",
    "ax.set_ylabel('Mean rating')\n",
    "ax.set_xlabel('Date')\n",
    "ax.bar(x, y)\n",
    "plt.show()"
   ],
   "metadata": {
    "collapsed": false,
    "pycharm": {
     "name": "#%%\n"
    }
   }
  },
  {
   "cell_type": "markdown",
   "metadata": {
    "id": "AmsQg9_xhLu2"
   },
   "source": [
    "Сохраните график в формате pdf (так он останется векторизованным)."
   ]
  },
  {
   "cell_type": "code",
   "metadata": {
    "id": "vKZNSwWghLu2"
   },
   "source": [
    "fig.savefig(\"./fig.pdf\")  # matplotlib sucks"
   ],
   "execution_count": 272,
   "outputs": []
  },
  {
   "cell_type": "code",
   "execution_count": 273,
   "outputs": [
    {
     "data": {
      "text/html": "\n    <div class=\"bk-root\">\n        <a href=\"https://bokeh.org\" target=\"_blank\" class=\"bk-logo bk-logo-small bk-logo-notebook\"></a>\n        <span id=\"1082\">Loading BokehJS ...</span>\n    </div>"
     },
     "metadata": {},
     "output_type": "display_data"
    },
    {
     "data": {
      "application/javascript": "\n(function(root) {\n  function now() {\n    return new Date();\n  }\n\n  const force = true;\n\n  if (typeof root._bokeh_onload_callbacks === \"undefined\" || force === true) {\n    root._bokeh_onload_callbacks = [];\n    root._bokeh_is_loading = undefined;\n  }\n\n  const JS_MIME_TYPE = 'application/javascript';\n  const HTML_MIME_TYPE = 'text/html';\n  const EXEC_MIME_TYPE = 'application/vnd.bokehjs_exec.v0+json';\n  const CLASS_NAME = 'output_bokeh rendered_html';\n\n  /**\n   * Render data to the DOM node\n   */\n  function render(props, node) {\n    const script = document.createElement(\"script\");\n    node.appendChild(script);\n  }\n\n  /**\n   * Handle when an output is cleared or removed\n   */\n  function handleClearOutput(event, handle) {\n    const cell = handle.cell;\n\n    const id = cell.output_area._bokeh_element_id;\n    const server_id = cell.output_area._bokeh_server_id;\n    // Clean up Bokeh references\n    if (id != null && id in Bokeh.index) {\n      Bokeh.index[id].model.document.clear();\n      delete Bokeh.index[id];\n    }\n\n    if (server_id !== undefined) {\n      // Clean up Bokeh references\n      const cmd_clean = \"from bokeh.io.state import curstate; print(curstate().uuid_to_server['\" + server_id + \"'].get_sessions()[0].document.roots[0]._id)\";\n      cell.notebook.kernel.execute(cmd_clean, {\n        iopub: {\n          output: function(msg) {\n            const id = msg.content.text.trim();\n            if (id in Bokeh.index) {\n              Bokeh.index[id].model.document.clear();\n              delete Bokeh.index[id];\n            }\n          }\n        }\n      });\n      // Destroy server and session\n      const cmd_destroy = \"import bokeh.io.notebook as ion; ion.destroy_server('\" + server_id + \"')\";\n      cell.notebook.kernel.execute(cmd_destroy);\n    }\n  }\n\n  /**\n   * Handle when a new output is added\n   */\n  function handleAddOutput(event, handle) {\n    const output_area = handle.output_area;\n    const output = handle.output;\n\n    // limit handleAddOutput to display_data with EXEC_MIME_TYPE content only\n    if ((output.output_type != \"display_data\") || (!Object.prototype.hasOwnProperty.call(output.data, EXEC_MIME_TYPE))) {\n      return\n    }\n\n    const toinsert = output_area.element.find(\".\" + CLASS_NAME.split(' ')[0]);\n\n    if (output.metadata[EXEC_MIME_TYPE][\"id\"] !== undefined) {\n      toinsert[toinsert.length - 1].firstChild.textContent = output.data[JS_MIME_TYPE];\n      // store reference to embed id on output_area\n      output_area._bokeh_element_id = output.metadata[EXEC_MIME_TYPE][\"id\"];\n    }\n    if (output.metadata[EXEC_MIME_TYPE][\"server_id\"] !== undefined) {\n      const bk_div = document.createElement(\"div\");\n      bk_div.innerHTML = output.data[HTML_MIME_TYPE];\n      const script_attrs = bk_div.children[0].attributes;\n      for (let i = 0; i < script_attrs.length; i++) {\n        toinsert[toinsert.length - 1].firstChild.setAttribute(script_attrs[i].name, script_attrs[i].value);\n        toinsert[toinsert.length - 1].firstChild.textContent = bk_div.children[0].textContent\n      }\n      // store reference to server id on output_area\n      output_area._bokeh_server_id = output.metadata[EXEC_MIME_TYPE][\"server_id\"];\n    }\n  }\n\n  function register_renderer(events, OutputArea) {\n\n    function append_mime(data, metadata, element) {\n      // create a DOM node to render to\n      const toinsert = this.create_output_subarea(\n        metadata,\n        CLASS_NAME,\n        EXEC_MIME_TYPE\n      );\n      this.keyboard_manager.register_events(toinsert);\n      // Render to node\n      const props = {data: data, metadata: metadata[EXEC_MIME_TYPE]};\n      render(props, toinsert[toinsert.length - 1]);\n      element.append(toinsert);\n      return toinsert\n    }\n\n    /* Handle when an output is cleared or removed */\n    events.on('clear_output.CodeCell', handleClearOutput);\n    events.on('delete.Cell', handleClearOutput);\n\n    /* Handle when a new output is added */\n    events.on('output_added.OutputArea', handleAddOutput);\n\n    /**\n     * Register the mime type and append_mime function with output_area\n     */\n    OutputArea.prototype.register_mime_type(EXEC_MIME_TYPE, append_mime, {\n      /* Is output safe? */\n      safe: true,\n      /* Index of renderer in `output_area.display_order` */\n      index: 0\n    });\n  }\n\n  // register the mime type if in Jupyter Notebook environment and previously unregistered\n  if (root.Jupyter !== undefined) {\n    const events = require('base/js/events');\n    const OutputArea = require('notebook/js/outputarea').OutputArea;\n\n    if (OutputArea.prototype.mime_types().indexOf(EXEC_MIME_TYPE) == -1) {\n      register_renderer(events, OutputArea);\n    }\n  }\n\n  \n  if (typeof (root._bokeh_timeout) === \"undefined\" || force === true) {\n    root._bokeh_timeout = Date.now() + 5000;\n    root._bokeh_failed_load = false;\n  }\n\n  const NB_LOAD_WARNING = {'data': {'text/html':\n     \"<div style='background-color: #fdd'>\\n\"+\n     \"<p>\\n\"+\n     \"BokehJS does not appear to have successfully loaded. If loading BokehJS from CDN, this \\n\"+\n     \"may be due to a slow or bad network connection. Possible fixes:\\n\"+\n     \"</p>\\n\"+\n     \"<ul>\\n\"+\n     \"<li>re-rerun `output_notebook()` to attempt to load from CDN again, or</li>\\n\"+\n     \"<li>use INLINE resources instead, as so:</li>\\n\"+\n     \"</ul>\\n\"+\n     \"<code>\\n\"+\n     \"from bokeh.resources import INLINE\\n\"+\n     \"output_notebook(resources=INLINE)\\n\"+\n     \"</code>\\n\"+\n     \"</div>\"}};\n\n  function display_loaded() {\n    const el = document.getElementById(\"1082\");\n    if (el != null) {\n      el.textContent = \"BokehJS is loading...\";\n    }\n    if (root.Bokeh !== undefined) {\n      if (el != null) {\n        el.textContent = \"BokehJS \" + root.Bokeh.version + \" successfully loaded.\";\n      }\n    } else if (Date.now() < root._bokeh_timeout) {\n      setTimeout(display_loaded, 100)\n    }\n  }\n\n\n  function run_callbacks() {\n    try {\n      root._bokeh_onload_callbacks.forEach(function(callback) {\n        if (callback != null)\n          callback();\n      });\n    } finally {\n      delete root._bokeh_onload_callbacks\n    }\n    console.debug(\"Bokeh: all callbacks have finished\");\n  }\n\n  function load_libs(css_urls, js_urls, callback) {\n    if (css_urls == null) css_urls = [];\n    if (js_urls == null) js_urls = [];\n\n    root._bokeh_onload_callbacks.push(callback);\n    if (root._bokeh_is_loading > 0) {\n      console.debug(\"Bokeh: BokehJS is being loaded, scheduling callback at\", now());\n      return null;\n    }\n    if (js_urls == null || js_urls.length === 0) {\n      run_callbacks();\n      return null;\n    }\n    console.debug(\"Bokeh: BokehJS not loaded, scheduling load and callback at\", now());\n    root._bokeh_is_loading = css_urls.length + js_urls.length;\n\n    function on_load() {\n      root._bokeh_is_loading--;\n      if (root._bokeh_is_loading === 0) {\n        console.debug(\"Bokeh: all BokehJS libraries/stylesheets loaded\");\n        run_callbacks()\n      }\n    }\n\n    function on_error(url) {\n      console.error(\"failed to load \" + url);\n    }\n\n    for (let i = 0; i < css_urls.length; i++) {\n      const url = css_urls[i];\n      const element = document.createElement(\"link\");\n      element.onload = on_load;\n      element.onerror = on_error.bind(null, url);\n      element.rel = \"stylesheet\";\n      element.type = \"text/css\";\n      element.href = url;\n      console.debug(\"Bokeh: injecting link tag for BokehJS stylesheet: \", url);\n      document.body.appendChild(element);\n    }\n\n    for (let i = 0; i < js_urls.length; i++) {\n      const url = js_urls[i];\n      const element = document.createElement('script');\n      element.onload = on_load;\n      element.onerror = on_error.bind(null, url);\n      element.async = false;\n      element.src = url;\n      console.debug(\"Bokeh: injecting script tag for BokehJS library: \", url);\n      document.head.appendChild(element);\n    }\n  };\n\n  function inject_raw_css(css) {\n    const element = document.createElement(\"style\");\n    element.appendChild(document.createTextNode(css));\n    document.body.appendChild(element);\n  }\n\n  \n  const js_urls = [\"https://cdn.bokeh.org/bokeh/release/bokeh-2.4.0.min.js\", \"https://cdn.bokeh.org/bokeh/release/bokeh-gl-2.4.0.min.js\", \"https://cdn.bokeh.org/bokeh/release/bokeh-widgets-2.4.0.min.js\", \"https://cdn.bokeh.org/bokeh/release/bokeh-tables-2.4.0.min.js\", \"https://cdn.bokeh.org/bokeh/release/bokeh-mathjax-2.4.0.min.js\"];\n  const css_urls = [];\n  \n\n  const inline_js = [\n    function(Bokeh) {\n      Bokeh.set_log_level(\"info\");\n    },\n    function(Bokeh) {\n    \n    \n    }\n  ];\n\n  function run_inline_js() {\n    \n    if (root.Bokeh !== undefined || force === true) {\n      \n    for (let i = 0; i < inline_js.length; i++) {\n      inline_js[i].call(root, root.Bokeh);\n    }\n    if (force === true) {\n        display_loaded();\n      }} else if (Date.now() < root._bokeh_timeout) {\n      setTimeout(run_inline_js, 100);\n    } else if (!root._bokeh_failed_load) {\n      console.log(\"Bokeh: BokehJS failed to load within specified timeout.\");\n      root._bokeh_failed_load = true;\n    } else if (force !== true) {\n      const cell = $(document.getElementById(\"1082\")).parents('.cell').data().cell;\n      cell.output_area.append_execute_result(NB_LOAD_WARNING)\n    }\n\n  }\n\n  if (root._bokeh_is_loading === 0) {\n    console.debug(\"Bokeh: BokehJS loaded, going straight to plotting\");\n    run_inline_js();\n  } else {\n    load_libs(css_urls, js_urls, function() {\n      console.debug(\"Bokeh: BokehJS plotting callback run at\", now());\n      run_inline_js();\n    });\n  }\n}(window));",
      "application/vnd.bokehjs_load.v0+json": "\n(function(root) {\n  function now() {\n    return new Date();\n  }\n\n  const force = true;\n\n  if (typeof root._bokeh_onload_callbacks === \"undefined\" || force === true) {\n    root._bokeh_onload_callbacks = [];\n    root._bokeh_is_loading = undefined;\n  }\n\n  \n\n  \n  if (typeof (root._bokeh_timeout) === \"undefined\" || force === true) {\n    root._bokeh_timeout = Date.now() + 5000;\n    root._bokeh_failed_load = false;\n  }\n\n  const NB_LOAD_WARNING = {'data': {'text/html':\n     \"<div style='background-color: #fdd'>\\n\"+\n     \"<p>\\n\"+\n     \"BokehJS does not appear to have successfully loaded. If loading BokehJS from CDN, this \\n\"+\n     \"may be due to a slow or bad network connection. Possible fixes:\\n\"+\n     \"</p>\\n\"+\n     \"<ul>\\n\"+\n     \"<li>re-rerun `output_notebook()` to attempt to load from CDN again, or</li>\\n\"+\n     \"<li>use INLINE resources instead, as so:</li>\\n\"+\n     \"</ul>\\n\"+\n     \"<code>\\n\"+\n     \"from bokeh.resources import INLINE\\n\"+\n     \"output_notebook(resources=INLINE)\\n\"+\n     \"</code>\\n\"+\n     \"</div>\"}};\n\n  function display_loaded() {\n    const el = document.getElementById(\"1082\");\n    if (el != null) {\n      el.textContent = \"BokehJS is loading...\";\n    }\n    if (root.Bokeh !== undefined) {\n      if (el != null) {\n        el.textContent = \"BokehJS \" + root.Bokeh.version + \" successfully loaded.\";\n      }\n    } else if (Date.now() < root._bokeh_timeout) {\n      setTimeout(display_loaded, 100)\n    }\n  }\n\n\n  function run_callbacks() {\n    try {\n      root._bokeh_onload_callbacks.forEach(function(callback) {\n        if (callback != null)\n          callback();\n      });\n    } finally {\n      delete root._bokeh_onload_callbacks\n    }\n    console.debug(\"Bokeh: all callbacks have finished\");\n  }\n\n  function load_libs(css_urls, js_urls, callback) {\n    if (css_urls == null) css_urls = [];\n    if (js_urls == null) js_urls = [];\n\n    root._bokeh_onload_callbacks.push(callback);\n    if (root._bokeh_is_loading > 0) {\n      console.debug(\"Bokeh: BokehJS is being loaded, scheduling callback at\", now());\n      return null;\n    }\n    if (js_urls == null || js_urls.length === 0) {\n      run_callbacks();\n      return null;\n    }\n    console.debug(\"Bokeh: BokehJS not loaded, scheduling load and callback at\", now());\n    root._bokeh_is_loading = css_urls.length + js_urls.length;\n\n    function on_load() {\n      root._bokeh_is_loading--;\n      if (root._bokeh_is_loading === 0) {\n        console.debug(\"Bokeh: all BokehJS libraries/stylesheets loaded\");\n        run_callbacks()\n      }\n    }\n\n    function on_error(url) {\n      console.error(\"failed to load \" + url);\n    }\n\n    for (let i = 0; i < css_urls.length; i++) {\n      const url = css_urls[i];\n      const element = document.createElement(\"link\");\n      element.onload = on_load;\n      element.onerror = on_error.bind(null, url);\n      element.rel = \"stylesheet\";\n      element.type = \"text/css\";\n      element.href = url;\n      console.debug(\"Bokeh: injecting link tag for BokehJS stylesheet: \", url);\n      document.body.appendChild(element);\n    }\n\n    for (let i = 0; i < js_urls.length; i++) {\n      const url = js_urls[i];\n      const element = document.createElement('script');\n      element.onload = on_load;\n      element.onerror = on_error.bind(null, url);\n      element.async = false;\n      element.src = url;\n      console.debug(\"Bokeh: injecting script tag for BokehJS library: \", url);\n      document.head.appendChild(element);\n    }\n  };\n\n  function inject_raw_css(css) {\n    const element = document.createElement(\"style\");\n    element.appendChild(document.createTextNode(css));\n    document.body.appendChild(element);\n  }\n\n  \n  const js_urls = [\"https://cdn.bokeh.org/bokeh/release/bokeh-2.4.0.min.js\", \"https://cdn.bokeh.org/bokeh/release/bokeh-gl-2.4.0.min.js\", \"https://cdn.bokeh.org/bokeh/release/bokeh-widgets-2.4.0.min.js\", \"https://cdn.bokeh.org/bokeh/release/bokeh-tables-2.4.0.min.js\", \"https://cdn.bokeh.org/bokeh/release/bokeh-mathjax-2.4.0.min.js\"];\n  const css_urls = [];\n  \n\n  const inline_js = [\n    function(Bokeh) {\n      Bokeh.set_log_level(\"info\");\n    },\n    function(Bokeh) {\n    \n    \n    }\n  ];\n\n  function run_inline_js() {\n    \n    if (root.Bokeh !== undefined || force === true) {\n      \n    for (let i = 0; i < inline_js.length; i++) {\n      inline_js[i].call(root, root.Bokeh);\n    }\n    if (force === true) {\n        display_loaded();\n      }} else if (Date.now() < root._bokeh_timeout) {\n      setTimeout(run_inline_js, 100);\n    } else if (!root._bokeh_failed_load) {\n      console.log(\"Bokeh: BokehJS failed to load within specified timeout.\");\n      root._bokeh_failed_load = true;\n    } else if (force !== true) {\n      const cell = $(document.getElementById(\"1082\")).parents('.cell').data().cell;\n      cell.output_area.append_execute_result(NB_LOAD_WARNING)\n    }\n\n  }\n\n  if (root._bokeh_is_loading === 0) {\n    console.debug(\"Bokeh: BokehJS loaded, going straight to plotting\");\n    run_inline_js();\n  } else {\n    load_libs(css_urls, js_urls, function() {\n      console.debug(\"Bokeh: BokehJS plotting callback run at\", now());\n      run_inline_js();\n    });\n  }\n}(window));"
     },
     "metadata": {},
     "output_type": "display_data"
    },
    {
     "data": {
      "text/html": "\n\n\n\n\n\n  <div class=\"bk-root\" id=\"66b249f1-2a59-4fb3-b643-65b5b7c7274a\" data-root-id=\"1083\"></div>\n"
     },
     "metadata": {},
     "output_type": "display_data"
    },
    {
     "data": {
      "application/javascript": "(function(root) {\n  function embed_document(root) {\n    \n  const docs_json = {\"6e0c01af-242a-4fc4-b708-0674fdea8d0c\":{\"defs\":[],\"roots\":{\"references\":[{\"attributes\":{\"below\":[{\"id\":\"1094\"}],\"center\":[{\"id\":\"1096\"},{\"id\":\"1100\"}],\"height\":300,\"left\":[{\"id\":\"1097\"}],\"renderers\":[{\"id\":\"1106\"}],\"title\":{\"id\":\"1084\"},\"toolbar\":{\"id\":\"1101\"},\"toolbar_location\":null,\"width\":800,\"x_range\":{\"id\":\"1086\"},\"x_scale\":{\"id\":\"1090\"},\"y_range\":{\"id\":\"1088\"},\"y_scale\":{\"id\":\"1092\"}},\"id\":\"1083\",\"subtype\":\"Figure\",\"type\":\"Plot\"},{\"attributes\":{\"axis\":{\"id\":\"1097\"},\"coordinates\":null,\"dimension\":1,\"group\":null,\"ticker\":null},\"id\":\"1100\",\"type\":\"Grid\"},{\"attributes\":{\"fill_alpha\":{\"value\":0.2},\"fill_color\":{\"value\":\"#1f77b4\"},\"hatch_alpha\":{\"value\":0.2},\"line_alpha\":{\"value\":0.2},\"line_color\":{\"value\":\"#1f77b4\"},\"top\":{\"field\":\"top\"},\"width\":{\"value\":0.6},\"x\":{\"field\":\"x\"}},\"id\":\"1105\",\"type\":\"VBar\"},{\"attributes\":{},\"id\":\"1101\",\"type\":\"Toolbar\"},{\"attributes\":{},\"id\":\"1125\",\"type\":\"Selection\"},{\"attributes\":{},\"id\":\"1120\",\"type\":\"AllLabels\"},{\"attributes\":{\"fill_color\":{\"value\":\"#1f77b4\"},\"line_color\":{\"value\":\"#1f77b4\"},\"top\":{\"field\":\"top\"},\"width\":{\"value\":0.6},\"x\":{\"field\":\"x\"}},\"id\":\"1103\",\"type\":\"VBar\"},{\"attributes\":{\"source\":{\"id\":\"1102\"}},\"id\":\"1107\",\"type\":\"CDSView\"},{\"attributes\":{\"coordinates\":null,\"data_source\":{\"id\":\"1102\"},\"glyph\":{\"id\":\"1103\"},\"group\":null,\"hover_glyph\":null,\"muted_glyph\":{\"id\":\"1105\"},\"nonselection_glyph\":{\"id\":\"1104\"},\"view\":{\"id\":\"1107\"}},\"id\":\"1106\",\"type\":\"GlyphRenderer\"},{\"attributes\":{\"coordinates\":null,\"group\":null,\"text\":\"Mean rating by date\"},\"id\":\"1084\",\"type\":\"Title\"},{\"attributes\":{\"factors\":[\"2020-05-14\",\"2020-05-15\",\"2020-05-16\",\"2020-05-17\",\"2020-05-18\",\"2020-05-19\",\"2020-05-20\",\"2020-05-21\",\"2020-05-23\",\"2020-05-24\"]},\"id\":\"1086\",\"type\":\"FactorRange\"},{\"attributes\":{\"fill_alpha\":{\"value\":0.1},\"fill_color\":{\"value\":\"#1f77b4\"},\"hatch_alpha\":{\"value\":0.1},\"line_alpha\":{\"value\":0.1},\"line_color\":{\"value\":\"#1f77b4\"},\"top\":{\"field\":\"top\"},\"width\":{\"value\":0.6},\"x\":{\"field\":\"x\"}},\"id\":\"1104\",\"type\":\"VBar\"},{\"attributes\":{},\"id\":\"1090\",\"type\":\"CategoricalScale\"},{\"attributes\":{\"start\":0},\"id\":\"1088\",\"type\":\"DataRange1d\"},{\"attributes\":{\"data\":{\"top\":[1160.2777777777778,719.8666666666667,736.4,915.027027027027,827.3526785714286,761.1428571428571,689.5,584.0,1080.5,670.5],\"x\":[\"2020-05-14\",\"2020-05-15\",\"2020-05-16\",\"2020-05-17\",\"2020-05-18\",\"2020-05-19\",\"2020-05-20\",\"2020-05-21\",\"2020-05-23\",\"2020-05-24\"]},\"selected\":{\"id\":\"1125\"},\"selection_policy\":{\"id\":\"1124\"}},\"id\":\"1102\",\"type\":\"ColumnDataSource\"},{\"attributes\":{},\"id\":\"1092\",\"type\":\"LinearScale\"},{\"attributes\":{},\"id\":\"1122\",\"type\":\"CategoricalTickFormatter\"},{\"attributes\":{\"axis_label\":\"Date\",\"coordinates\":null,\"formatter\":{\"id\":\"1122\"},\"group\":null,\"major_label_policy\":{\"id\":\"1123\"},\"ticker\":{\"id\":\"1095\"}},\"id\":\"1094\",\"type\":\"CategoricalAxis\"},{\"attributes\":{},\"id\":\"1123\",\"type\":\"AllLabels\"},{\"attributes\":{},\"id\":\"1124\",\"type\":\"UnionRenderers\"},{\"attributes\":{},\"id\":\"1095\",\"type\":\"CategoricalTicker\"},{\"attributes\":{\"axis\":{\"id\":\"1094\"},\"coordinates\":null,\"grid_line_color\":null,\"group\":null,\"ticker\":null},\"id\":\"1096\",\"type\":\"Grid\"},{\"attributes\":{\"axis_label\":\"Mean rating\",\"coordinates\":null,\"formatter\":{\"id\":\"1119\"},\"group\":null,\"major_label_policy\":{\"id\":\"1120\"},\"ticker\":{\"id\":\"1098\"}},\"id\":\"1097\",\"type\":\"LinearAxis\"},{\"attributes\":{},\"id\":\"1098\",\"type\":\"BasicTicker\"},{\"attributes\":{},\"id\":\"1119\",\"type\":\"BasicTickFormatter\"}],\"root_ids\":[\"1083\"]},\"title\":\"Bokeh Application\",\"version\":\"2.4.0\"}};\n  const render_items = [{\"docid\":\"6e0c01af-242a-4fc4-b708-0674fdea8d0c\",\"root_ids\":[\"1083\"],\"roots\":{\"1083\":\"66b249f1-2a59-4fb3-b643-65b5b7c7274a\"}}];\n  root.Bokeh.embed.embed_items_notebook(docs_json, render_items);\n\n  }\n  if (root.Bokeh !== undefined) {\n    embed_document(root);\n  } else {\n    let attempts = 0;\n    const timer = setInterval(function(root) {\n      if (root.Bokeh !== undefined) {\n        clearInterval(timer);\n        embed_document(root);\n      } else {\n        attempts++;\n        if (attempts > 100) {\n          clearInterval(timer);\n          console.log(\"Bokeh: ERROR: Unable to run BokehJS code because BokehJS library is missing\");\n        }\n      }\n    }, 10, root)\n  }\n})(window);",
      "application/vnd.bokehjs_exec.v0+json": ""
     },
     "metadata": {
      "application/vnd.bokehjs_exec.v0+json": {
       "id": "1083"
      }
     },
     "output_type": "display_data"
    }
   ],
   "source": [
    "# !pip install bokeh\n",
    "\n",
    "from bokeh.io import output_notebook, show, export_svg\n",
    "from bokeh.plotting import figure\n",
    "\n",
    "output_notebook()\n",
    "\n",
    "p = figure(\n",
    "    x_range=x,\n",
    "    title=\"Mean rating by date\",\n",
    "    toolbar_location=None,\n",
    "    tools=\"\",\n",
    "    height=300,\n",
    "    width=800,\n",
    "    x_axis_label=\"Date\",\n",
    "    y_axis_label=\"Mean rating\"\n",
    ")\n",
    "\n",
    "p.vbar(x=x, top=y, width=0.6)\n",
    "\n",
    "p.xgrid.grid_line_color = None\n",
    "p.y_range.start = 0\n",
    "\n",
    "show(p)"
   ],
   "metadata": {
    "collapsed": false,
    "pycharm": {
     "name": "#%%\n"
    }
   }
  },
  {
   "cell_type": "code",
   "execution_count": 275,
   "outputs": [],
   "source": [
    "# !pip install selenium\n",
    "# !conda install -c conda-forge firefox geckodriver\n",
    "\n",
    "export_svg(p, filename=\"./plot.svg\")  # so much better now"
   ],
   "metadata": {
    "collapsed": false,
    "pycharm": {
     "name": "#%%\n"
    }
   }
  },
  {
   "cell_type": "markdown",
   "metadata": {
    "id": "b7SBV6_GhLu2"
   },
   "source": [
    "Еще одна билиотека для визуализации: [seaborn](https://jakevdp.github.io/PythonDataScienceHandbook/04.14-visualization-with-seaborn.html). Это настройка над matplotlib, иногда удобнее и красивее делать визуализации через неё. "
   ]
  },
  {
   "cell_type": "markdown",
   "metadata": {
    "id": "sCgWwjl0hLu2"
   },
   "source": [
    "### 2. Распределение студентов по курсам."
   ]
  },
  {
   "cell_type": "markdown",
   "metadata": {
    "id": "VNqXUpr4hLu3"
   },
   "source": [
    "Теперь вам нужно распределить студентов по осенним курсам по выбору, учитывая их предпочтения."
   ]
  },
  {
   "cell_type": "markdown",
   "metadata": {
    "id": "5cAR2FgphLu3"
   },
   "source": [
    "Алгоритм распределения студентов по курсам:\n",
    "1. По умолчанию на каждой дисциплине по выбору у 3 и 4 курсов может учиться 1 группа (до 30 студентов). Исключения описаны ниже. На blended-дисциплинах для четверокурсников количество мест не ограничено.\n",
    "2. Проводится первая волна отбора. Для каждой дисциплины формируется список тех, кто указал её первым приоритетом (если студент должен выбрать два курса по выбору, то для него дисциплины, которые он указал первым и вторым приоритетом, рассматриваются как дисциплины первого приоритета). Если желающих больше, чем мест, то выбирается топ по перцентилю рейтинга.\n",
    "3. На дисциплинах, где остались места после первой волны, формируются списки тех, кто выбрал их вторым приоритетом, и места заполняются лучшими по перцентили рейтинга студентами. После этого проводится такая же процедура для дисциплин третьего приоритета.\n",
    "4. Если студент не попал на необходимое количество курсов по итогам трёх волн, с ним связывается учебный офис и решает вопрос в индивидуальном порядке."
   ]
  },
  {
   "cell_type": "markdown",
   "metadata": {
    "id": "BiNKVwS6hLu3"
   },
   "source": [
    "Обращаем ваше внимание на следующие детали:\n",
    "\n",
    "- По умолчанию студент выбирает один осенний и один весенний курс по выбору, а также четверокурсники выбирают один blended-курс. Студенты групп 17-го года специализаций МОП и ТИ выбирают по 2 осенних и 2 весенних курса по выбору, также студенты групп 18' специализации МИ выбирают 2 осенних курса. <i>Для студентов, которые выбирают 2 курса (например, осенних) первый приоритет — <code>fall_1</code> и <code>fall_2</code>, второй приоритет — <code>fall_3</code>. Такие студенты участвуют только в двух волнах отбора</i>.\n",
    "\n",
    "- Студенты специализации МОП не могут выбрать весенним курсом по выбору Машинное обучение 2. <i>Если студент специализации МОП выбрал Машинное обучение 2, то его приоритеты сдвигаются. Из-за совпадений первого и второго курса по выбору двигать приоритеты не надо</i>.\n",
    "\n",
    "- Blended-курсы не трогайте, по ним не надо распределять, на другие курсы они никак не влияют.\n",
    "\n",
    "- Постарайтесь воздержаться от использования циклов там, где это возможно. <i>Допустимо итерироваться по <b>курсам</b>, на которые проводится отбор, и по <b>волнам</b> отбора. Если вы придумаете, как обойтись и без этих циклов, то на усмотрение проверяющего могут быть добавлены бонусные баллы. <b>Дублирование кода не признается успешным избавлением от циклов</b></i>\n",
    "\n",
    "- На выходе ожидается файл res_fall.csv с результатами распределения на осенние курсы по выбору. Файл должен быть следующего формата:\n",
    "\n",
    "    * три столбца: ID, course1, course2\n",
    "    \n",
    "    * Если студент не попал на курс, но должен был, то вместо названия курса в ячейке должна быть строка \"???\"\n",
    "    \n",
    "    * Если студент должен выбрать только один курс, то в колонке course2 для него должна стоять строка \"-\"\n",
    "    \n",
    "    * Если студент должен выбрать два курса по выбору, то порядок в колонках course1 и course2 не важен.\n",
    "    \n",
    "    * Формат csv: для сохранения воспользуйтесь df.to_csv('solution.csv', index=None)\n",
    "    \n",
    "\n",
    "Для работы вам могут понадобиться следующие данные:\n",
    "\n",
    "- Результаты опроса (вы уже использовали этот файл в первой части задания, но на всякий случай ссылка: https://www.dropbox.com/s/f4rm8sjc3v99p0m/_end_seminar.xlsx?dl=0)\n",
    "\n",
    "- Соответствие номеров групп специализациям:\n",
    "\n",
    "    * 171, 172 - МОП; 173 - ТИ; 174 — АДИС; 175, 176 — РС; 177 — АПР\n",
    "    \n",
    "    * У студентов 18-го года номера групп соответствуют номерам до распределения по специализациям.\n",
    "\n",
    "- Ограничения по количеству мест на курсах по выбору:\n",
    "\n",
    "    * Осенние: везде 30 мест, кроме Statistical Learning Theory (60 мест), Высокопроизводительных вычислений (60 мест), Анализа неструктурированных данных ($\\infty$ мест)\n",
    "\n",
    "    * Весенние: везде 30 мест, кроме Обучения с подкреплением (60 мест), Анализа данных в бизнесе (60 мест).\n",
    "\n",
    "\n",
    "Кстати, убедитесь, что в данных больше нет пропусков и повторных записей."
   ]
  },
  {
   "cell_type": "markdown",
   "metadata": {
    "id": "o5t55IcQhLu4"
   },
   "source": [
    "#### 0. Проверка\n",
    "\n",
    "Для начала давайте убедимся, что вы успешно выполнили задания первой части и проверим ваши данные на наличие пропусков и повторов:"
   ]
  },
  {
   "cell_type": "code",
   "metadata": {
    "id": "34HWEdVdhLu4"
   },
   "source": [
    "assert df.shape[0] == 347, 'В таблице остались повторы или потеряны данные'\n",
    "\n",
    "assert df.isna().sum().sum() == 0, 'В таблице остались пропуски'"
   ],
   "execution_count": 324,
   "outputs": []
  },
  {
   "cell_type": "markdown",
   "metadata": {
    "id": "_ImUFyG3hLu4"
   },
   "source": [
    "Если вы не получили AssertionError, то можете продолжать."
   ]
  },
  {
   "cell_type": "markdown",
   "metadata": {
    "id": "LTGSwwvAhLu4"
   },
   "source": [
    "#### 1. [1 балл] Создайте новый признак, обозначающий, сколько осенних курсов должен выбрать студент\n",
    "\n",
    "В этом вам может помочь информация о специализации и группе стундента."
   ]
  },
  {
   "cell_type": "code",
   "metadata": {
    "id": "ouxo0kHFhLu4"
   },
   "source": [
    "def get_fall_courses_num(stud: pd.Series) -> int:\n",
    "    courses_num: int = 1\n",
    "\n",
    "    if stud[\"17_group\"] in [171, 172, 173]:\n",
    "        courses_num += 1\n",
    "\n",
    "    if stud[\"18_group\"] > 0 and stud.is_mi:\n",
    "        courses_num += 1\n",
    "    return courses_num\n",
    "\n",
    "\n",
    "def get_spring_courses_num(stud: pd.Series) -> int:\n",
    "    courses_num: int = 1\n",
    "\n",
    "    if stud[\"17_group\"] in [171, 172, 173]:\n",
    "        courses_num += 1\n",
    "    return courses_num"
   ],
   "execution_count": 325,
   "outputs": []
  },
  {
   "cell_type": "code",
   "execution_count": 326,
   "outputs": [],
   "source": [
    "df[\"fall_courses_num\"] = df.apply(get_fall_courses_num, axis=1)"
   ],
   "metadata": {
    "collapsed": false,
    "pycharm": {
     "name": "#%%\n"
    }
   }
  },
  {
   "cell_type": "markdown",
   "metadata": {
    "id": "S47aq1sQhLu4"
   },
   "source": [
    "Проверка:"
   ]
  },
  {
   "cell_type": "code",
   "metadata": {
    "id": "OlOgzDKDhLu5"
   },
   "source": [
    "col_name = \"fall_courses_num\"  # insert your new column name as str\n",
    "\n",
    "assert (df[df['id'] == '2662600c2c37e11e62f6ee0b88452f22'][col_name] == 2).all(), \"1\"\n",
    "assert (df[df['id'] == 'd555d2805e1d93d4f023e57dc4c8f403'][col_name] == 2).all(), \"2\"\n",
    "assert (df[df['id'] == '8fe79f84f36e3a5d2d6745621321302c'][col_name] == 1).all(), \"3\"\n",
    "assert (df[df['id'] == 'e4caca755ee0bdd711e18fb8084958b5'][col_name] == 1).all(), \"4\""
   ],
   "execution_count": 327,
   "outputs": []
  },
  {
   "cell_type": "markdown",
   "metadata": {
    "id": "VtQYhwuPhLu5"
   },
   "source": [
    "#### 2. [2 балла] Распределите студентов в соответствии с первым приоритетом"
   ]
  },
  {
   "cell_type": "code",
   "execution_count": 328,
   "outputs": [],
   "source": [
    "# По умолчанию на каждой дисциплине по выбору у 3 и 4 курсов может учиться 1 группа (до 30 студентов). Исключения описаны ниже. На blended-дисциплинах для четверокурсников количество мест не ограничено.\n",
    "# Проводится первая волна отбора. Для каждой дисциплины формируется список тех, кто указал её первым приоритетом (если студент должен выбрать два курса по выбору, то для него дисциплины, которые он указал первым и вторым приоритетом, рассматриваются как дисциплины первого приоритета). Если желающих больше, чем мест, то выбирается топ по перцентилю рейтинга.\n",
    "# На дисциплинах, где остались места после первой волны, формируются списки тех, кто выбрал их вторым приоритетом, и места заполняются лучшими по перцентили рейтинга студентами. После этого проводится такая же процедура для дисциплин третьего приоритета.\n",
    "# Если студент не попал на необходимое количество курсов по итогам трёх волн, с ним связывается учебный офис и решает вопрос в индивидуальном порядке.\n",
    "\n",
    "def get_all_courses(df: pd.DataFrame, season: str = \"fall\") -> list:\n",
    "    return [*set(df[[f\"{season}_1\", f\"{season}_2\", f\"{season}_3\"]].values.flatten())]\n",
    "\n",
    "\n",
    "def get_fall_places_num(course: str) -> int:\n",
    "    '''\n",
    "    Осенние: везде 30 мест, кроме Statistical Learning Theory (60 мест), Высокопроизводительных вычислений (60 мест),\n",
    "    Анализа неструктурированных данных ($\\infty$ мест)\n",
    "    '''\n",
    "    if course in [\"Statistical Learning Theory\", \"Высокопроизводительные вычисления\"]:\n",
    "        return 60\n",
    "    elif course == \"Анализ неструктурированных данных\":\n",
    "        return 1_000_000  # i'm just too lazy to work with inf in python :-|\n",
    "    else:\n",
    "        return 30\n",
    "\n",
    "\n",
    "def get_spring_places_num(course: str) -> int:\n",
    "    \"\"\"Весенние: везде 30 мест, кроме Обучения с подкреплением (60 мест), Анализа данных в бизнесе (60 мест).\"\"\"\n",
    "    if course in [\"Обучение с подкреплением\", \"Анализ данных в бизнесе\"]:\n",
    "        return 60\n",
    "    else:\n",
    "        return 30\n",
    "\n",
    "\n",
    "def prepare_season_df(df: pd.DataFrame, season: str = \"fall\") -> pd.DataFrame:\n",
    "    season_df = df[[\"id\", \"percentile\", f\"{season}_1\", f\"{season}_2\", f\"{season}_3\", f\"{season}_courses_num\"]].copy()\n",
    "    season_df[\"course1\"] = \"???\"\n",
    "    season_df[\"course2\"] = \"???\"\n",
    "    season_df.at[season_df[f\"{season}_courses_num\"] == 1, \"course2\"] = \"-\"\n",
    "    season_df[\"all_chosen\"] = False\n",
    "    return season_df.set_index(\"id\")\n",
    "\n",
    "\n",
    "def calc_course_size(df: pd.DataFrame, course: str) -> int:\n",
    "    size = 0\n",
    "    counts = df.course1.value_counts(), df.course2.value_counts()\n",
    "\n",
    "    if course in counts[0]:\n",
    "        size += int(counts[0][course])\n",
    "    if course in counts[1]:\n",
    "        size += int(counts[1][course])\n",
    "    return size\n",
    "\n",
    "\n",
    "def run_first_wave(df: pd.DataFrame, season: str = \"fall\", add_percentile_places: bool = False) -> None:\n",
    "    for course in get_all_courses(df, season=season):\n",
    "        if season == \"fall\":\n",
    "            course_places = get_fall_places_num(course)\n",
    "        else:\n",
    "            course_places = get_spring_places_num(course)\n",
    "\n",
    "        wave_students = df[\n",
    "            (df[f\"{season}_1\"] == course) |\n",
    "            ((df[f\"{season}_2\"] == course) & (df[f\"{season}_courses_num\"] == 2))\n",
    "            ]\n",
    "        wave_students = wave_students.copy().sort_values(by=\"percentile\")\n",
    "\n",
    "        if len(wave_students) > course_places:\n",
    "            wave_students = wave_students.head(course_places)\n",
    "\n",
    "        wave_students.at[(wave_students.course2 == \"???\") & (wave_students.course1 != \"???\"), \"course2\"] = course\n",
    "        wave_students.at[wave_students.course1 == \"???\", \"course1\"] = course\n",
    "\n",
    "        df.loc[wave_students.index, \"course1\"] = wave_students.course1\n",
    "        df.loc[wave_students.index, \"course2\"] = wave_students.course2\n",
    "\n",
    "        df.loc[(df.course1 != \"???\") & (df[f\"{season}_courses_num\"] == 1), \"all_chosen\"] = True\n",
    "        df.loc[(df.course2 != \"???\") & (df[f\"{season}_courses_num\"] == 2), \"all_chosen\"] = True\n",
    "\n",
    "        if add_percentile_places:\n",
    "            df.at[wave_students.iloc[0].name, \"is_first_place\"] = True\n",
    "            df.at[wave_students.iloc[-1].name, \"is_last_place\"] = True\n",
    "\n",
    "\n",
    "def run_second_wave(df: pd.DataFrame, season: str = \"fall\") -> None:\n",
    "    for course in get_all_courses(df, season=season):\n",
    "        course_places = get_fall_places_num(course)\n",
    "        current_course_size = calc_course_size(df, course)\n",
    "\n",
    "        if current_course_size < course_places:\n",
    "            wave_students = df[\n",
    "                (((df[f\"{season}_3\"] == course) & (df[f\"{season}_courses_num\"] == 2)) |\n",
    "                 ((df[f\"{season}_2\"] == course) & (df[f\"{season}_courses_num\"] == 1))) &\n",
    "                (df.all_chosen == False) &\n",
    "                (df.course1 != course)\n",
    "                ]\n",
    "            wave_students = wave_students.copy().sort_values(by=\"percentile\")\n",
    "\n",
    "            if current_course_size + len(wave_students) > course_places:\n",
    "                wave_students = wave_students.head(course_places - current_course_size)\n",
    "\n",
    "            wave_students.at[(wave_students.course2 == \"???\") & (wave_students.course1 != \"???\"), \"course2\"] = course\n",
    "            wave_students.at[wave_students.course1 == \"???\", \"course1\"] = course\n",
    "\n",
    "            df.loc[wave_students.index, \"course1\"] = wave_students.course1\n",
    "            df.loc[wave_students.index, \"course2\"] = wave_students.course2\n",
    "\n",
    "            df.loc[(df.course1 != \"???\") & (df[f\"{season}_courses_num\"] == 1), \"all_chosen\"] = True\n",
    "            df.loc[(df.course2 != \"???\") & (df[f\"{season}_courses_num\"] == 2), \"all_chosen\"] = True\n",
    "\n",
    "\n",
    "def run_third_wave(df: pd.DataFrame, season: str = \"fall\") -> None:\n",
    "    for course in get_all_courses(df, season=season):\n",
    "        course_places = get_fall_places_num(course)\n",
    "        current_course_size = calc_course_size(df, course)\n",
    "\n",
    "        if current_course_size < course_places:\n",
    "            wave_students = df[\n",
    "                ((df[f\"{season}_3\"] == course) &\n",
    "                 (df[f\"{season}_courses_num\"] == 1)) &\n",
    "                (df.all_chosen == False) &\n",
    "                (df.course1 != course)\n",
    "                ]\n",
    "            wave_students = wave_students.copy().sort_values(by=\"percentile\")\n",
    "\n",
    "            if current_course_size + len(wave_students) > course_places:\n",
    "                wave_students = wave_students.head(course_places - current_course_size)\n",
    "\n",
    "            wave_students.at[(wave_students.course2 == \"???\") & (wave_students.course1 != \"???\"), \"course2\"] = course\n",
    "            wave_students.at[wave_students.course1 == \"???\", \"course1\"] = course\n",
    "\n",
    "            df.loc[wave_students.index, \"course1\"] = wave_students.course1\n",
    "            df.loc[wave_students.index, \"course2\"] = wave_students.course2\n",
    "\n",
    "            df.loc[(df.course1 != \"???\") & (df[f\"{season}_courses_num\"] == 1), \"all_chosen\"] = True\n",
    "            df.loc[(df.course2 != \"???\") & (df[f\"{season}_courses_num\"] == 2), \"all_chosen\"] = True"
   ],
   "metadata": {
    "collapsed": false,
    "pycharm": {
     "name": "#%%\n"
    }
   }
  },
  {
   "cell_type": "code",
   "execution_count": 329,
   "outputs": [],
   "source": [
    "fall_df = prepare_season_df(df)\n",
    "run_first_wave(fall_df, add_percentile_places=True)"
   ],
   "metadata": {
    "collapsed": false,
    "pycharm": {
     "name": "#%%\n"
    }
   }
  },
  {
   "cell_type": "markdown",
   "metadata": {
    "id": "vc5zXP5hhLu5"
   },
   "source": [
    "Здесь для проверки приведена таблица, в которой есть 2 дополнительные колонки:\n",
    "    \n",
    "    1) is_first_place - является ли студент лучшим по перцентили хотя бы на одном из курсов, куда он был зачислен \n",
    "    (True / NaN)\n",
    "    \n",
    "    2) is_last_place  - является ли студент худшим по перцентили хотя бы на одном из курсов, куда он был зачислен (True / NaN)"
   ]
  },
  {
   "cell_type": "code",
   "execution_count": 335,
   "outputs": [],
   "source": [
    "def check_first_priority(df: pd.DataFrame, check_df: pd.DataFrame) -> None:\n",
    "    \"\"\"I didn't like how the old checking code work, so here is a new one\"\"\"\n",
    "    d = df.sort_values(by=\"id\").copy().fillna(False)\n",
    "    cd = check_df.sort_values(by=\"id\").copy().fillna(False)\n",
    "    assert (d.is_first_place.values == cd.is_first_place.values).sum() == 347, \"ошибочка\"\n",
    "    assert (d.is_last_place.values == cd.is_last_place.values).sum() == 347, \"ошибочка\"\n",
    "\n",
    "\n",
    "def make_submission(df: pd.DataFrame) -> pd.DataFrame:\n",
    "    res_df = df[[\"course1\", \"course2\"]].copy()\n",
    "    res_df.reset_index(inplace=True)\n",
    "    res_df.columns = [\"ID\", \"course1\", \"course2\"]\n",
    "    return res_df"
   ],
   "metadata": {
    "collapsed": false,
    "pycharm": {
     "name": "#%%\n"
    }
   }
  },
  {
   "cell_type": "code",
   "execution_count": 331,
   "outputs": [],
   "source": [
    "# !wget  -O '2_task_check.csv' -q 'https://www.dropbox.com/s/v8o2zzq3iz5gc9w/_2_task_check.csv?dl=0'\n",
    "check_df = pd.read_csv('2_task_check.csv')\n",
    "check_first_priority(fall_df, check_df)"
   ],
   "metadata": {
    "collapsed": false,
    "pycharm": {
     "name": "#%%\n"
    }
   }
  },
  {
   "cell_type": "markdown",
   "source": [
    "После распределения студентов в соответствии с первым приоритетом добавьте в свой датафрейм аналогичные признаки и запустите проверку:"
   ],
   "metadata": {
    "collapsed": false
   }
  },
  {
   "cell_type": "markdown",
   "metadata": {
    "id": "RO6DwNNFhLu6"
   },
   "source": [
    "#### 3. [3 балла] Проведите все три волны отбора студентов на курсы по выбору"
   ]
  },
  {
   "cell_type": "code",
   "execution_count": 332,
   "outputs": [],
   "source": [
    "fall_df = prepare_season_df(df, season=\"fall\")\n",
    "\n",
    "run_first_wave(fall_df)\n",
    "run_second_wave(fall_df)\n",
    "run_third_wave(fall_df)\n",
    "\n",
    "solution_df = make_submission(fall_df)"
   ],
   "metadata": {
    "collapsed": false,
    "pycharm": {
     "name": "#%%\n"
    }
   }
  },
  {
   "cell_type": "code",
   "execution_count": 333,
   "outputs": [],
   "source": [
    "solution_df.to_csv(\"./solution.csv\", index=None)"
   ],
   "metadata": {
    "collapsed": false,
    "pycharm": {
     "name": "#%%\n"
    }
   }
  },
  {
   "cell_type": "markdown",
   "source": [
    "**Отправьте свой файл res_fall.csv в контест (https://contest.yandex.ru/contest/29176/problems/A/) и прикрепите/укажите ниже ваш никнейм и ссылку на успешную посылку.**"
   ],
   "metadata": {
    "collapsed": false
   }
  },
  {
   "cell_type": "code",
   "execution_count": 321,
   "outputs": [],
   "source": [
    "# sleep3r\n",
    "# https://contest.yandex.ru/contest/29176/run-report/53519977/"
   ],
   "metadata": {
    "collapsed": false,
    "pycharm": {
     "name": "#%%\n"
    }
   }
  },
  {
   "cell_type": "markdown",
   "source": [
    "*Дисклеймер:*\n",
    "\n",
    "Контест выдаётся для самопроверки. Если ваша посылка получила ОК, то код, скорее всего, правильный. Но при этом оценка всё равно может быть снижена в случае обнаружения неэффективностей или ошибок в коде. Если вы сдадите в AnyTask очевидно неработающий код или ноутбук без кода, но при этом в контест будет сдан корректный файл, то это будет расцениваться как плагиат."
   ],
   "metadata": {
    "collapsed": false
   }
  },
  {
   "cell_type": "markdown",
   "metadata": {
    "id": "1IkQa_gdhLu6"
   },
   "source": [
    "На всякий случай просим вас сдать вместе с ноутбуком файл res_fall.csv в anytask"
   ]
  },
  {
   "cell_type": "markdown",
   "metadata": {
    "id": "k8d711qGhLu7"
   },
   "source": [
    "**Дополнительное задание. [2 бонусных балла] Распределите таким же образом студентов еще и на весенние курсы по выбору.**\n",
    "\n",
    "Если ваш код был хорошо структурирован, то это не составит проблем. \n",
    "\n",
    "Если вы выполнили это задание, сдайте среди прочего файл res_spring.csv в таком же формате, как и res_fall.csv."
   ]
  },
  {
   "cell_type": "code",
   "metadata": {
    "id": "hwmusOGThLu7"
   },
   "source": [
    "df[\"spring_courses_num\"] = df.apply(get_spring_courses_num, axis=1)\n",
    "spring_df = prepare_season_df(df, season=\"spring\")\n",
    "\n",
    "run_first_wave(spring_df, season=\"spring\")\n",
    "run_second_wave(spring_df, season=\"spring\")\n",
    "run_third_wave(spring_df, season=\"spring\")\n",
    "\n",
    "solution_df = make_submission(spring_df)"
   ],
   "execution_count": 322,
   "outputs": []
  },
  {
   "cell_type": "code",
   "execution_count": 323,
   "outputs": [],
   "source": [
    "solution_df.to_csv(\"./spring_solution.csv\", index=None)"
   ],
   "metadata": {
    "collapsed": false,
    "pycharm": {
     "name": "#%%\n"
    }
   }
  },
  {
   "cell_type": "markdown",
   "metadata": {
    "id": "It7QQZLYhLu7"
   },
   "source": [
    "**Отправьте свой файл res_spring.csv в контест (https://contest.yandex.ru/contest/29176/problems/B/) и прикрепите/укажите ниже ваш никнейм и ссылку на успешную посылку.**"
   ]
  },
  {
   "cell_type": "markdown",
   "metadata": {
    "id": "1YcouVTihLu7"
   },
   "source": [
    "На всякий случай просим вас сдать вместе с ноутбуком файл res_spring.csv в anytask"
   ]
  },
  {
   "cell_type": "markdown",
   "metadata": {
    "id": "uY_OY6inhLu7",
    "pycharm": {
     "name": "#%% md\n"
    }
   },
   "source": [
    "Вставьте картинку, описывающую ваш опыт выполнения этого задания:"
   ]
  }
 ]
}